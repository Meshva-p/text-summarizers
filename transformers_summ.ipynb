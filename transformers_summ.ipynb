{
 "cells": [
  {
   "cell_type": "code",
   "execution_count": 14,
   "metadata": {},
   "outputs": [],
   "source": [
    "from summarizer import Summarizer , TransformerSummarizer"
   ]
  },
  {
   "cell_type": "code",
   "execution_count": 10,
   "metadata": {},
   "outputs": [],
   "source": [
    "text = \"\"\"US President Joe Biden has ordered intelligence officials to \"redouble\" efforts to investigate the origins of Covid-19, including the theory that it came from a laboratory in China.\n",
    "He said the US intelligence community was split on whether it was the result of a lab accident, or emerged from human contact with an infected animal.\n",
    "Mr Biden asked the groups to report back to him within 90 days.\n",
    "China's embassy in the US warned against \"politicising\" origin tracing.\n",
    "\"Smear campaigns and blame shifting are making a comeback, and the conspiracy theory of 'lab leak' is resurfacing,\" the embassy said in a statement posted on its website, which did not directly mention Mr Biden's remarks.\n",
    "\"To politicize origin tracing, a matter of science, will not only make it hard to find the origin of the virus, but give free rein to the 'political virus' and seriously hamper international cooperation on the pandemic,\" it said.\n",
    "Since it was first detected in the Chinese city of Wuhan in late 2019, more than 168 million cases of Covid-19 have been confirmed worldwide and at least 3.5 million deaths reported.\n",
    "Authorities linked early Covid cases to a seafood market in Wuhan, leading scientists to theorise the virus first passed to humans from animals.\n",
    "But recent US media reports have suggested growing evidence the virus could instead have emerged from a laboratory in China, perhaps through an accidental leak.\n",
    "In what passes for relative transparency in the US government, the Biden administration has conceded the American intelligence community is split on Covid-19's origins - it could be the lab or animal-to-human contact - and no-one is near certain about it.\n",
    "That marks a big shift from the derision heaped on the lab theory by many in the media and politics last year, when Donald Trump, Secretary of State Mike Pompeo, Senator Tom Cotton and others floated the idea.\n",
    "Mr Trump and Mr Pompeo didn't help the situation, however, as they were coy about the grounds for their suspicion. And their theories floating alongside more far-fetched ones, such as that the disease was manufactured as a bioweapon in a Chinese lab. That possibility still seems highly unlikely.\n",
    "The public may never know the full truth about the virus' origins, particularly if China continues to be uncooperative. Mr Biden is pledging a full investigation, however, and if the US finds conclusive evidence of a lab leak, it will mean more than just a few prominent figures having to eat crow and re-evaluate their trust in authoritative \"conclusions\". It could place very real strain on US-China relations for years to come.\n",
    "\"\"\""
   ]
  },
  {
   "cell_type": "code",
   "execution_count": 12,
   "metadata": {},
   "outputs": [
    {
     "name": "stderr",
     "output_type": "stream",
     "text": [
      "Some weights of the model checkpoint at bert-large-uncased were not used when initializing BertModel: ['cls.predictions.bias', 'cls.predictions.transform.LayerNorm.weight', 'cls.seq_relationship.weight', 'cls.seq_relationship.bias', 'cls.predictions.transform.dense.bias', 'cls.predictions.decoder.weight', 'cls.predictions.transform.LayerNorm.bias', 'cls.predictions.transform.dense.weight']\n",
      "- This IS expected if you are initializing BertModel from the checkpoint of a model trained on another task or with another architecture (e.g. initializing a BertForSequenceClassification model from a BertForPreTraining model).\n",
      "- This IS NOT expected if you are initializing BertModel from the checkpoint of a model that you expect to be exactly identical (initializing a BertForSequenceClassification model from a BertForSequenceClassification model).\n"
     ]
    },
    {
     "name": "stdout",
     "output_type": "stream",
     "text": [
      "100\n",
      "US President Joe Biden has ordered intelligence officials to \"redouble\" efforts to investigate the origins of Covid-19, including the theory that it came from a laboratory in China. But recent US media reports have suggested growing evidence the virus could instead have emerged from a laboratory in China, perhaps through an accidental leak. In what passes for relative transparency in the US government, the Biden administration has conceded the American intelligence community is split on Covid-19's origins - it could be the lab or animal-to-human contact - and no-one is near certain about it.\n"
     ]
    }
   ],
   "source": [
    "bert_model = Summarizer()\n",
    "n=int(input()) #words\n",
    "bert_summary = ''.join(bert_model(text, min_length=n))\n",
    "print(bert_summary)"
   ]
  },
  {
   "cell_type": "code",
   "execution_count": 17,
   "metadata": {},
   "outputs": [
    {
     "name": "stderr",
     "output_type": "stream",
     "text": [
      "Some weights of GPT2Model were not initialized from the model checkpoint at gpt2-medium and are newly initialized: ['h.6.attn.masked_bias', 'h.4.attn.masked_bias', 'h.10.attn.masked_bias', 'h.16.attn.masked_bias', 'h.21.attn.masked_bias', 'h.17.attn.masked_bias', 'h.22.attn.masked_bias', 'h.0.attn.masked_bias', 'h.20.attn.masked_bias', 'h.14.attn.masked_bias', 'h.8.attn.masked_bias', 'h.19.attn.masked_bias', 'h.9.attn.masked_bias', 'h.5.attn.masked_bias', 'h.23.attn.masked_bias', 'h.3.attn.masked_bias', 'h.7.attn.masked_bias', 'h.12.attn.masked_bias', 'h.2.attn.masked_bias', 'h.18.attn.masked_bias', 'h.13.attn.masked_bias', 'h.1.attn.masked_bias', 'h.15.attn.masked_bias', 'h.11.attn.masked_bias']\n",
      "You should probably TRAIN this model on a down-stream task to be able to use it for predictions and inference.\n"
     ]
    },
    {
     "name": "stdout",
     "output_type": "stream",
     "text": [
      "150\n",
      "US President Joe Biden has ordered intelligence officials to \"redouble\" efforts to investigate the origins of Covid-19, including the theory that it came from a laboratory in China. In what passes for relative transparency in the US government, the Biden administration has conceded the American intelligence community is split on Covid-19's origins - it could be the lab or animal-to-human contact - and no-one is near certain about it.\n"
     ]
    }
   ],
   "source": [
    "GPT2_model = TransformerSummarizer(transformer_type=\"GPT2\",transformer_model_key=\"gpt2-medium\")\n",
    "n=int(input())\n",
    "full = ''.join(GPT2_model(text, min_length=n))\n",
    "print(full)\n"
   ]
  },
  {
   "cell_type": "code",
   "execution_count": 18,
   "metadata": {},
   "outputs": [],
   "source": [
    "from transformers import pipeline\n"
   ]
  },
  {
   "cell_type": "code",
   "execution_count": 19,
   "metadata": {},
   "outputs": [
    {
     "data": {
      "application/vnd.jupyter.widget-view+json": {
       "model_id": "60753dc81a354b0c89e8b4079a989cc6",
       "version_major": 2,
       "version_minor": 0
      },
      "text/plain": [
       "Downloading:   0%|          | 0.00/1.65k [00:00<?, ?B/s]"
      ]
     },
     "metadata": {},
     "output_type": "display_data"
    },
    {
     "data": {
      "application/vnd.jupyter.widget-view+json": {
       "model_id": "3e04ddb917e345e3acefa07439f30d58",
       "version_major": 2,
       "version_minor": 0
      },
      "text/plain": [
       "Downloading:   0%|          | 0.00/1.22G [00:00<?, ?B/s]"
      ]
     },
     "metadata": {},
     "output_type": "display_data"
    },
    {
     "data": {
      "application/vnd.jupyter.widget-view+json": {
       "model_id": "3626c2ba9e6d4350b2e2ab7020d461e6",
       "version_major": 2,
       "version_minor": 0
      },
      "text/plain": [
       "Downloading:   0%|          | 0.00/899k [00:00<?, ?B/s]"
      ]
     },
     "metadata": {},
     "output_type": "display_data"
    },
    {
     "data": {
      "application/vnd.jupyter.widget-view+json": {
       "model_id": "0be23b8daa4044d98f379657718900b0",
       "version_major": 2,
       "version_minor": 0
      },
      "text/plain": [
       "Downloading:   0%|          | 0.00/456k [00:00<?, ?B/s]"
      ]
     },
     "metadata": {},
     "output_type": "display_data"
    },
    {
     "data": {
      "application/vnd.jupyter.widget-view+json": {
       "model_id": "f3b2a999815e4656a496328247802ec5",
       "version_major": 2,
       "version_minor": 0
      },
      "text/plain": [
       "Downloading:   0%|          | 0.00/26.0 [00:00<?, ?B/s]"
      ]
     },
     "metadata": {},
     "output_type": "display_data"
    }
   ],
   "source": [
    " summarizer = pipeline(\"summarization\")"
   ]
  },
  {
   "cell_type": "code",
   "execution_count": 20,
   "metadata": {},
   "outputs": [
    {
     "name": "stdout",
     "output_type": "stream",
     "text": [
      "[{'summary_text': ' Joe Biden orders US intelligence officials to \"redouble\" efforts to investigate Covid-19\\'s origins . The US intelligence community is split on whether it was the result of a lab accident, or emerged from human contact with an infected animal . China\\'s embassy in the US warned against \"politicising\" origin tracing .'}]\n"
     ]
    }
   ],
   "source": [
    "print(summarizer(text, max_length=130, min_length=30, do_sample=False))"
   ]
  },
  {
   "cell_type": "code",
   "execution_count": 21,
   "metadata": {},
   "outputs": [
    {
     "data": {
      "application/vnd.jupyter.widget-view+json": {
       "model_id": "b6e776fd452640889e5aab35f3b68e4a",
       "version_major": 2,
       "version_minor": 0
      },
      "text/plain": [
       "Downloading:   0%|          | 0.00/760 [00:00<?, ?B/s]"
      ]
     },
     "metadata": {},
     "output_type": "display_data"
    },
    {
     "data": {
      "application/vnd.jupyter.widget-view+json": {
       "model_id": "1514a626f915418882d91165ac3226ef",
       "version_major": 2,
       "version_minor": 0
      },
      "text/plain": [
       "Downloading:   0%|          | 0.00/467M [00:00<?, ?B/s]"
      ]
     },
     "metadata": {},
     "output_type": "display_data"
    },
    {
     "name": "stderr",
     "output_type": "stream",
     "text": [
      "Some weights of the model checkpoint at xlnet-base-cased were not used when initializing XLNetModel: ['lm_loss.bias', 'lm_loss.weight']\n",
      "- This IS expected if you are initializing XLNetModel from the checkpoint of a model trained on another task or with another architecture (e.g. initializing a BertForSequenceClassification model from a BertForPreTraining model).\n",
      "- This IS NOT expected if you are initializing XLNetModel from the checkpoint of a model that you expect to be exactly identical (initializing a BertForSequenceClassification model from a BertForSequenceClassification model).\n"
     ]
    },
    {
     "data": {
      "application/vnd.jupyter.widget-view+json": {
       "model_id": "328b5aa57c1f4068b0e1fbb165114906",
       "version_major": 2,
       "version_minor": 0
      },
      "text/plain": [
       "Downloading:   0%|          | 0.00/798k [00:00<?, ?B/s]"
      ]
     },
     "metadata": {},
     "output_type": "display_data"
    },
    {
     "data": {
      "application/vnd.jupyter.widget-view+json": {
       "model_id": "89b465acb4904debb4dbe677890bc384",
       "version_major": 2,
       "version_minor": 0
      },
      "text/plain": [
       "Downloading:   0%|          | 0.00/1.38M [00:00<?, ?B/s]"
      ]
     },
     "metadata": {},
     "output_type": "display_data"
    },
    {
     "name": "stdout",
     "output_type": "stream",
     "text": [
      "100\n",
      "US President Joe Biden has ordered intelligence officials to \"redouble\" efforts to investigate the origins of Covid-19, including the theory that it came from a laboratory in China. But recent US media reports have suggested growing evidence the virus could instead have emerged from a laboratory in China, perhaps through an accidental leak.\n"
     ]
    }
   ],
   "source": [
    "model = TransformerSummarizer(transformer_type=\"XLNet\",transformer_model_key=\"xlnet-base-cased\")\n",
    "n=int(input())\n",
    "full = ''.join(model(text, min_length=n))\n",
    "print(full)"
   ]
  },
  {
   "cell_type": "code",
   "execution_count": 22,
   "metadata": {},
   "outputs": [
    {
     "data": {
      "application/vnd.jupyter.widget-view+json": {
       "model_id": "b77e78894caf472692e61c6036a766bd",
       "version_major": 2,
       "version_minor": 0
      },
      "text/plain": [
       "Downloading:   0%|          | 0.00/1.20k [00:00<?, ?B/s]"
      ]
     },
     "metadata": {},
     "output_type": "display_data"
    },
    {
     "data": {
      "application/vnd.jupyter.widget-view+json": {
       "model_id": "25903e6677f74c389ad648a9281b3616",
       "version_major": 2,
       "version_minor": 0
      },
      "text/plain": [
       "Downloading:   0%|          | 0.00/242M [00:00<?, ?B/s]"
      ]
     },
     "metadata": {},
     "output_type": "display_data"
    },
    {
     "data": {
      "application/vnd.jupyter.widget-view+json": {
       "model_id": "9981b19ea9204a8287a216a3d22e5b5b",
       "version_major": 2,
       "version_minor": 0
      },
      "text/plain": [
       "Downloading:   0%|          | 0.00/792k [00:00<?, ?B/s]"
      ]
     },
     "metadata": {},
     "output_type": "display_data"
    },
    {
     "data": {
      "application/vnd.jupyter.widget-view+json": {
       "model_id": "53d095d4dc894e32a60063ff84680b08",
       "version_major": 2,
       "version_minor": 0
      },
      "text/plain": [
       "Downloading:   0%|          | 0.00/1.39M [00:00<?, ?B/s]"
      ]
     },
     "metadata": {},
     "output_type": "display_data"
    },
    {
     "name": "stderr",
     "output_type": "stream",
     "text": [
      "Token indices sequence length is longer than the specified maximum sequence length for this model (593 > 512). Running this sequence through the model will result in indexing errors\n"
     ]
    },
    {
     "name": "stdout",
     "output_type": "stream",
     "text": [
      "\n",
      "\n",
      "Summarized text: \n",
      " embassy in the u.s. warns against \"politicising\" origin tracing. 168 million cases of Covid-19 have been confirmed worldwide and at least 3.5 million deaths reported in recent years - a major shift from the derision heaped on the lab theory by many in media and politics last year. the public may never know the full truth about the virus' origins, especially if China continues to be uncooperative.\n"
     ]
    }
   ],
   "source": [
    "import torch\n",
    "import json \n",
    "from transformers import T5Tokenizer, T5ForConditionalGeneration, T5Config\n",
    "\n",
    "model = T5ForConditionalGeneration.from_pretrained('t5-small')\n",
    "tokenizer = T5Tokenizer.from_pretrained('t5-small')\n",
    "device = torch.device('cpu')\n",
    "\n",
    "\n",
    "t5_prepared_Text = \"summarize: \"+ text\n",
    "\n",
    "tokenized_text = tokenizer.encode(t5_prepared_Text, return_tensors=\"pt\").to(device)\n",
    "\n",
    "\n",
    "# summmarize , change max length and min length\n",
    "summary_ids = model.generate(tokenized_text,\n",
    "                                    num_beams=4,\n",
    "                                    no_repeat_ngram_size=2,\n",
    "                                    min_length=30,\n",
    "                                    max_length=100,\n",
    "                                    early_stopping=True)\n",
    "\n",
    "output = tokenizer.decode(summary_ids[0], skip_special_tokens=True)\n",
    "\n",
    "print (\"\\n\\nSummarized text: \\n\",output)\n"
   ]
  },
  {
   "cell_type": "code",
   "execution_count": null,
   "metadata": {},
   "outputs": [],
   "source": []
  }
 ],
 "metadata": {
  "kernelspec": {
   "display_name": "Python 3",
   "language": "python",
   "name": "python3"
  },
  "language_info": {
   "codemirror_mode": {
    "name": "ipython",
    "version": 3
   },
   "file_extension": ".py",
   "mimetype": "text/x-python",
   "name": "python",
   "nbconvert_exporter": "python",
   "pygments_lexer": "ipython3",
   "version": "3.8.3"
  }
 },
 "nbformat": 4,
 "nbformat_minor": 4
}
