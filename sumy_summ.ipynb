{
 "cells": [
  {
   "cell_type": "code",
   "execution_count": 1,
   "metadata": {},
   "outputs": [],
   "source": [
    "import pandas as pd\n",
    "import numpy as np"
   ]
  },
  {
   "cell_type": "code",
   "execution_count": 14,
   "metadata": {},
   "outputs": [],
   "source": [
    "from sumy.parsers.plaintext import PlaintextParser \n",
    "from sumy.nlp.tokenizers import Tokenizer \n",
    "from sumy.summarizers.lsa import LsaSummarizer "
   ]
  },
  {
   "cell_type": "code",
   "execution_count": 15,
   "metadata": {},
   "outputs": [],
   "source": [
    "text=\"\"\"Tesla CEO Elon Musk recently announced that the company is no longer just a manufacturer of electric cars, but that they are currently dabbling in artificial intelligence with the development of one of the strongest hardware and software AI teams in the world. world .\n",
    "\n",
    "\"The software that existed to solve the problem of autonomous driving was really quite primitive, so we built a team from scratch and have been developing what we believe is probably the most advanced artificial intelligence in the real world,\" revealed the Tech leader to analysts during the call to release Tesla's financial status for the first quarter of 2021.\n",
    "\n",
    "It is worth mentioning that days ago the US company published its seventh consecutive quarterly balance with solid earnings . From January to March 2021, it achieved an income of 10,380 million dollars , which represents an increase of 74% more than the first quarter of the previous year.\n",
    "\n",
    "To find out more: Xenobots: Scientists create a new generation of living bots\n",
    "Similarly, it declared a record quarterly profit in its history with 438 million dollars .\n",
    "\n",
    "During the report, the company disclosed that it sold 10% of its Bitcoin for a value of 272 million dollars during this last quarter . From this sum they have obtained profits of approximately 101 million dollars .\n",
    "\n",
    "Recall that two months ago Tesla surprised everyone by announcing that it had invested 1,500 million dollars in Bitcoin and then redoubled its bet by announcing that its vehicles could be bought with this cryptocurrency .\n",
    "\n",
    "For his part, Zack Kirkhorn , Tesla's CFO, said that Bitcoin is a long-term bet for the company: \"we believe in the long-term value of Bitcoin and we will keep it that way.\"\n",
    "\n",
    "It should be noted that Tesla was one of the first companies to announce that it was going to accept Bitcoins as a means of payment , and such was the impact that the news generated that Elon Musk's own statements moved several times, up and down, the price of the most popular of cryptocurrencies.\n",
    "\n",
    "But picking up on Tesla's foray into the world of artificial intelligence, we should note that Musk has for some time promoted the idea that investors see the firm not only as a carmaker and an energy company, but as a group of startups .\n",
    "\n",
    "\n",
    "The entrepreneur has argued for months that Tesla's service centers are a startup , Tesla's insurance company is a startup , Tesla's automation group is a startup , etc. In this sense, the also co-founder of SpaceX , affirms that artificial intelligence and robotics will become as synonymous with Tesla as cars and energy already are.\n",
    "\n",
    "Find out more: Why data is the world's most valuable resource today\n",
    "And it is that the South African tycoon has been betting and investing in artificial intelligence companies for years . An example of this is OpenAI , a company he founded in 2015 together with Sam Altman , Ilya Sutskever , Greg Brockman and Wojciech Zaremba .\n",
    "\n",
    "OpenAI emerged with the objective of investigating and democratizing access to General Artificial Intelligence . Originally, it was a non-profit organization. However, in 2020, it became a company and partnered with Microsoft in order to achieve new advances, both in the field of language with GPT-3 models, and in the field of robotics and computer vision.\n",
    "\n",
    "But Musk aspires to more: think Robotaxis , Artificial Intelligence and power provision. Tesla will not be remembered so much as a car company, but as one of Artificial Intelligence and Robotics , said the British magazine The Economist . In fact, Musk believes that he is about to overcome the challenge of the self-guided vehicle based on 6 cameras , \"machine learning \" (one of the pillars of Artificial Intelligence) and a computerized \"brain\" capable of reacting at superhuman speed. .\n",
    "\n",
    "Additionally, the company continues to work on the Dojo , a supercomputer for training Tesla's autonomous AI. Musk has previously claimed that Tesla's Dojo supercomputer will be capable of performing an exaFLOP , a quintillion (1018) of floating point operations per second, or 1,000 petaFLOPS , making it one of the most powerful computers in the world. It will be optimized to train neural networks and will be made available to other companies.\n",
    "\n",
    "According to The Economist , if Elon Musk manages to mix cars, artificial intelligence, software and energy, his market will be extraordinarily broad . And, as Musk himself recently stated, Tesla will become better known as a robotics firm in Artificial Intelligence .\n",
    "\"\"\""
   ]
  },
  {
   "cell_type": "code",
   "execution_count": 16,
   "metadata": {},
   "outputs": [
    {
     "name": "stdout",
     "output_type": "stream",
     "text": [
      "tesla ceo elon musk recently announced that the company is no longer just a manufacturer of electric cars, but that they are currently dabbling in artificial intelligence with the development of one of the strongest hardware and software ai teams in the world. world .\n",
      "\n",
      "\"the software that existed to solve the problem of autonomous driving was really quite primitive, so we built a team from scratch and have been developing what we believe is probably the most advanced artificial intelligence in the real world,\" revealed the tech leader to analysts during the call to release tesla's financial status for the first quarter of 2021.\n",
      "\n",
      "it is worth mentioning that days ago the us company published its seventh consecutive quarterly balance with solid earnings . from january to march 2021, it achieved an income of 10,380 million dollars , which represents an increase of 74% more than the first quarter of the previous year.\n",
      "\n",
      "to find out more: xenobots: scientists create a new generation of living bots\n",
      "similarly, it declared a record quarterly profit in its history with 438 million dollars .\n",
      "\n",
      "during the report, the company disclosed that it sold 10% of its bitcoin for a value of 272 million dollars during this last quarter . from this sum they have obtained profits of approximately 101 million dollars .\n",
      "\n",
      "recall that two months ago tesla surprised everyone by announcing that it had invested 1,500 million dollars in bitcoin and then redoubled its bet by announcing that its vehicles could be bought with this cryptocurrency .\n",
      "\n",
      "for his part, zack kirkhorn , tesla's cfo, said that bitcoin is a long-term bet for the company: \"we believe in the long-term value of bitcoin and we will keep it that way.\"\n",
      "\n",
      "it should be noted that tesla was one of the first companies to announce that it was going to accept bitcoins as a means of payment , and such was the impact that the news generated that elon musk's own statements moved several times, up and down, the price of the most popular of cryptocurrencies.\n",
      "\n",
      "but picking up on tesla's foray into the world of artificial intelligence, we should note that musk has for some time promoted the idea that investors see the firm not only as a carmaker and an energy company, but as a group of startups .\n",
      "\n",
      "\n",
      "the entrepreneur has argued for months that tesla's service centers are a startup , tesla's insurance company is a startup , tesla's automation group is a startup , etc. in this sense, the also co-founder of spacex , affirms that artificial intelligence and robotics will become as synonymous with tesla as cars and energy already are.\n",
      "\n",
      "find out more: why data is the world's most valuable resource today\n",
      "and it is that the south african tycoon has been betting and investing in artificial intelligence companies for years . an example of this is openai , a company he founded in 2015 together with sam altman , ilya sutskever , greg brockman and wojciech zaremba .\n",
      "\n",
      "openai emerged with the objective of investigating and democratizing access to general artificial intelligence . originally, it was a non-profit organization. however, in 2020, it became a company and partnered with microsoft in order to achieve new advances, both in the field of language with gpt-3 models, and in the field of robotics and computer vision.\n",
      "\n",
      "but musk aspires to more: think robotaxis , artificial intelligence and power provision. tesla will not be remembered so much as a car company, but as one of artificial intelligence and robotics , said the british magazine the economist . in fact, musk believes that he is about to overcome the challenge of the self-guided vehicle based on 6 cameras , \"machine learning \" (one of the pillars of artificial intelligence) and a computerized \"brain\" capable of reacting at superhuman speed. .\n",
      "\n",
      "additionally, the company continues to work on the dojo , a supercomputer for training tesla's autonomous ai. musk has previously claimed that tesla's dojo supercomputer will be capable of performing an exaflop , a quintillion (1018) of floating point operations per second, or 1,000 petaflops , making it one of the most powerful computers in the world. it will be optimized to train neural networks and will be made available to other companies.\n",
      "\n",
      "according to the economist , if elon musk manages to mix cars, artificial intelligence, software and energy, his market will be extraordinarily broad . and, as musk himself recently stated, tesla will become better known as a robotics firm in artificial intelligence .\n",
      "\n"
     ]
    }
   ],
   "source": [
    "text = text.lower()\n",
    "print(text)"
   ]
  },
  {
   "cell_type": "code",
   "execution_count": 17,
   "metadata": {},
   "outputs": [
    {
     "data": {
      "text/plain": [
       "'tesla ceo elon musk recently announced that the company is no longer just a manufacturer of electric cars, but that they are currently dabbling in artificial intelligence with the development of one of the strongest hardware and software ai teams in the world. world .\\n\\n\"the software that existed to solve the problem of autonomous driving was really quite primitive, so we built a team from scratch and have been developing what we believe is probably the most advanced artificial intelligence in the real world,\" revealed the tech leader to analysts during the call to release tesla\\'s financial status for the first quarter of 2021.\\n\\nit is worth mentioning that days ago the us company published its seventh consecutive quarterly balance with solid earnings . from january to march 2021, it achieved an income of 10,380 million dollars , which represents an increase of 74% more than the first quarter of the previous year.\\n\\nto find out more: xenobots: scientists create a new generation of living bots\\nsimilarly, it declared a record quarterly profit in its history with 438 million dollars .\\n\\nduring the report, the company disclosed that it sold 10% of its bitcoin for a value of 272 million dollars during this last quarter . from this sum they have obtained profits of approximately 101 million dollars .\\n\\nrecall that two months ago tesla surprised everyone by announcing that it had invested 1,500 million dollars in bitcoin and then redoubled its bet by announcing that its vehicles could be bought with this cryptocurrency .\\n\\nfor his part, zack kirkhorn , tesla\\'s cfo, said that bitcoin is a long-term bet for the company: \"we believe in the long-term value of bitcoin and we will keep it that way.\"\\n\\nit should be noted that tesla was one of the first companies to announce that it was going to accept bitcoins as a means of payment , and such was the impact that the news generated that elon musk\\'s own statements moved several times, up and down, the price of the most popular of cryptocurrencies.\\n\\nbut picking up on tesla\\'s foray into the world of artificial intelligence, we should note that musk has for some time promoted the idea that investors see the firm not only as a carmaker and an energy company, but as a group of startups .\\n\\n\\nthe entrepreneur has argued for months that tesla\\'s service centers are a startup , tesla\\'s insurance company is a startup , tesla\\'s automation group is a startup , etc. in this sense, the also co-founder of spacex , affirms that artificial intelligence and robotics will become as synonymous with tesla as cars and energy already are.\\n\\nfind out more: why data is the world\\'s most valuable resource today\\nand it is that the south african tycoon has been betting and investing in artificial intelligence companies for years . an example of this is openai , a company he founded in 2015 together with sam altman , ilya sutskever , greg brockman and wojciech zaremba .\\n\\nopenai emerged with the objective of investigating and democratizing access to general artificial intelligence . originally, it was a non-profit organization. however, in 2020, it became a company and partnered with microsoft in order to achieve new advances, both in the field of language with gpt-3 models, and in the field of robotics and computer vision.\\n\\nbut musk aspires to more: think robotaxis , artificial intelligence and power provision. tesla will not be remembered so much as a car company, but as one of artificial intelligence and robotics , said the british magazine the economist . in fact, musk believes that he is about to overcome the challenge of the self-guided vehicle based on 6 cameras , \"machine learning \" (one of the pillars of artificial intelligence) and a computerized \"brain\" capable of reacting at superhuman speed. .\\n\\nadditionally, the company continues to work on the dojo , a supercomputer for training tesla\\'s autonomous ai. musk has previously claimed that tesla\\'s dojo supercomputer will be capable of performing an exaflop , a quintillion (1018) of floating point operations per second, or 1,000 petaflops , making it one of the most powerful computers in the world. it will be optimized to train neural networks and will be made available to other companies.\\n\\naccording to the economist , if elon musk manages to mix cars, artificial intelligence, software and energy, his market will be extraordinarily broad . and, as musk himself recently stated, tesla will become better known as a robotics firm in artificial intelligence .\\n'"
      ]
     },
     "execution_count": 17,
     "metadata": {},
     "output_type": "execute_result"
    }
   ],
   "source": [
    "import re\n",
    "def remove_emoji(text):\n",
    "    emoji_pattern = re.compile(\"[\"\n",
    "            u\"\\U0001F600-\\U0001F64F\"  # emoticons\n",
    "            u\"\\U0001F300-\\U0001F5FF\"  # symbols & pictographs\n",
    "            u\"\\U0001F680-\\U0001F6FF\"  # transport & map symbols\n",
    "            u\"\\U0001F1E0-\\U0001F1FF\"  # flags (iOS)\n",
    "            u\"\\U00002700-\\U000027BF\"  # Dingbats\n",
    "                               \"]+\", flags=re.UNICODE)\n",
    "    return emoji_pattern.sub(r'', text)\n",
    "\n",
    "remove_emoji(text)"
   ]
  },
  {
   "cell_type": "code",
   "execution_count": 21,
   "metadata": {},
   "outputs": [
    {
     "name": "stdout",
     "output_type": "stream",
     "text": [
      "tesla ceo elon musk recently announced that the company is no longer just a manufacturer of electric cars, but that they are currently dabbling in artificial intelligence with the development of one of the strongest hardware and software ai teams in the world. world .\n",
      "\n",
      "\"the software that existed to solve the problem of autonomous driving was really quite primitive, so we built a team from scratch and have been developing what we believe is probably the most advanced artificial intelligence in the real world,\" revealed the tech leader to analysts during the call to release tesla's financial status for the first quarter of 2021.\n",
      "\n",
      "it is worth mentioning that days ago the us company published its seventh consecutive quarterly balance with solid earnings . from january to march 2021, it achieved an income of 10,380 million dollars , which represents an increase of 74% more than the first quarter of the previous year.\n",
      "\n",
      "to find out more: xenobots: scientists create a new generation of living bots\n",
      "similarly, it declared a record quarterly profit in its history with 438 million dollars .\n",
      "\n",
      "during the report, the company disclosed that it sold 10% of its bitcoin for a value of 272 million dollars during this last quarter . from this sum they have obtained profits of approximately 101 million dollars .\n",
      "\n",
      "recall that two months ago tesla surprised everyone by announcing that it had invested 1,500 million dollars in bitcoin and then redoubled its bet by announcing that its vehicles could be bought with this cryptocurrency .\n",
      "\n",
      "for his part, zack kirkhorn , tesla's cfo, said that bitcoin is a long-term bet for the company: \"we believe in the long-term value of bitcoin and we will keep it that way.\"\n",
      "\n",
      "it should be noted that tesla was one of the first companies to announce that it was going to accept bitcoins as a means of payment , and such was the impact that the news generated that elon musk's own statements moved several times, up and down, the price of the most popular of cryptocurrencies.\n",
      "\n",
      "but picking up on tesla's foray into the world of artificial intelligence, we should note that musk has for some time promoted the idea that investors see the firm not only as a carmaker and an energy company, but as a group of startups .\n",
      "\n",
      "\n",
      "the entrepreneur has argued for months that tesla's service centers are a startup , tesla's insurance company is a startup , tesla's automation group is a startup , etc. in this sense, the also co-founder of spacex , affirms that artificial intelligence and robotics will become as synonymous with tesla as cars and energy already are.\n",
      "\n",
      "find out more: why data is the world's most valuable resource today\n",
      "and it is that the south african tycoon has been betting and investing in artificial intelligence companies for years . an example of this is openai , a company he founded in 2015 together with sam altman , ilya sutskever , greg brockman and wojciech zaremba .\n",
      "\n",
      "openai emerged with the objective of investigating and democratizing access to general artificial intelligence . originally, it was a non-profit organization. however, in 2020, it became a company and partnered with microsoft in order to achieve new advances, both in the field of language with gpt-3 models, and in the field of robotics and computer vision.\n",
      "\n",
      "but musk aspires to more: think robotaxis , artificial intelligence and power provision. tesla will not be remembered so much as a car company, but as one of artificial intelligence and robotics , said the british magazine the economist . in fact, musk believes that he is about to overcome the challenge of the self-guided vehicle based on 6 cameras , \"machine learning \" (one of the pillars of artificial intelligence) and a computerized \"brain\" capable of reacting at superhuman speed. .\n",
      "\n",
      "additionally, the company continues to work on the dojo , a supercomputer for training tesla's autonomous ai. musk has previously claimed that tesla's dojo supercomputer will be capable of performing an exaflop , a quintillion (1018) of floating point operations per second, or 1,000 petaflops , making it one of the most powerful computers in the world. it will be optimized to train neural networks and will be made available to other companies.\n",
      "\n",
      "according to the economist , if elon musk manages to mix cars, artificial intelligence, software and energy, his market will be extraordinarily broad . and, as musk himself recently stated, tesla will become better known as a robotics firm in artificial intelligence .\n"
     ]
    }
   ],
   "source": [
    "text = text.rstrip(\"\\n\")\n",
    "print(text)"
   ]
  },
  {
   "cell_type": "code",
   "execution_count": 22,
   "metadata": {},
   "outputs": [
    {
     "name": "stdout",
     "output_type": "stream",
     "text": [
      "['tesla ceo elon musk recently announced that the company is no longer just a manufacturer of electric cars, but that they are currently dabbling in artificial intelligence with the development of one of the strongest hardware and software ai teams in the world.', 'world .', '\"the software that existed to solve the problem of autonomous driving was really quite primitive, so we built a team from scratch and have been developing what we believe is probably the most advanced artificial intelligence in the real world,\" revealed the tech leader to analysts during the call to release tesla\\'s financial status for the first quarter of 2021.\\n\\nit is worth mentioning that days ago the us company published its seventh consecutive quarterly balance with solid earnings .', 'from january to march 2021, it achieved an income of 10,380 million dollars , which represents an increase of 74% more than the first quarter of the previous year.', 'to find out more: xenobots: scientists create a new generation of living bots\\nsimilarly, it declared a record quarterly profit in its history with 438 million dollars .', 'during the report, the company disclosed that it sold 10% of its bitcoin for a value of 272 million dollars during this last quarter .', 'from this sum they have obtained profits of approximately 101 million dollars .', 'recall that two months ago tesla surprised everyone by announcing that it had invested 1,500 million dollars in bitcoin and then redoubled its bet by announcing that its vehicles could be bought with this cryptocurrency .', 'for his part, zack kirkhorn , tesla\\'s cfo, said that bitcoin is a long-term bet for the company: \"we believe in the long-term value of bitcoin and we will keep it that way.\"', \"it should be noted that tesla was one of the first companies to announce that it was going to accept bitcoins as a means of payment , and such was the impact that the news generated that elon musk's own statements moved several times, up and down, the price of the most popular of cryptocurrencies.\", \"but picking up on tesla's foray into the world of artificial intelligence, we should note that musk has for some time promoted the idea that investors see the firm not only as a carmaker and an energy company, but as a group of startups .\", \"the entrepreneur has argued for months that tesla's service centers are a startup , tesla's insurance company is a startup , tesla's automation group is a startup , etc.\", 'in this sense, the also co-founder of spacex , affirms that artificial intelligence and robotics will become as synonymous with tesla as cars and energy already are.', \"find out more: why data is the world's most valuable resource today\\nand it is that the south african tycoon has been betting and investing in artificial intelligence companies for years .\", 'an example of this is openai , a company he founded in 2015 together with sam altman , ilya sutskever , greg brockman and wojciech zaremba .', 'openai emerged with the objective of investigating and democratizing access to general artificial intelligence .', 'originally, it was a non-profit organization.', 'however, in 2020, it became a company and partnered with microsoft in order to achieve new advances, both in the field of language with gpt-3 models, and in the field of robotics and computer vision.', 'but musk aspires to more: think robotaxis , artificial intelligence and power provision.', 'tesla will not be remembered so much as a car company, but as one of artificial intelligence and robotics , said the british magazine the economist .', 'in fact, musk believes that he is about to overcome the challenge of the self-guided vehicle based on 6 cameras , \"machine learning \" (one of the pillars of artificial intelligence) and a computerized \"brain\" capable of reacting at superhuman speed.', '.', \"additionally, the company continues to work on the dojo , a supercomputer for training tesla's autonomous ai.\", \"musk has previously claimed that tesla's dojo supercomputer will be capable of performing an exaflop , a quintillion (1018) of floating point operations per second, or 1,000 petaflops , making it one of the most powerful computers in the world.\", 'it will be optimized to train neural networks and will be made available to other companies.', 'according to the economist , if elon musk manages to mix cars, artificial intelligence, software and energy, his market will be extraordinarily broad .', 'and, as musk himself recently stated, tesla will become better known as a robotics firm in artificial intelligence .']\n"
     ]
    }
   ],
   "source": [
    "from nltk.tokenize import sent_tokenize,word_tokenize\n",
    "import regex\n",
    "\n",
    "#tokenize sentences \n",
    "def tokenize_sentence(text):\n",
    "  sents=sent_tokenize(text) \n",
    "  sent_list=[]\n",
    "  for sent in sents:\n",
    "    sent=sent.strip()\n",
    "    sent=sent.lower() \n",
    "    sent_list.append(sent)\n",
    "  return(sent_list)\n",
    "\n",
    "\n",
    "sentences=tokenize_sentence(text)\n",
    "sent_for_print=sentences\n",
    "print(sentences)"
   ]
  },
  {
   "cell_type": "code",
   "execution_count": 7,
   "metadata": {},
   "outputs": [
    {
     "name": "stdout",
     "output_type": "stream",
     "text": [
      "['tesla ceo elon musk recently announced that the company is no longer just a manufacturer of electric cars but that they are currently dabbling in artificial intelligence with the development of one of the strongest hardware and software ai teams in the world', 'world', 'the software that existed to solve the problem of autonomous driving was really quite primitive so we built a team from scratch and have been developing what we believe is probably the most advanced artificial intelligence in the real world revealed the tech leader to analysts during the call to release tesla s financial status for the first quarter of 2021 it is worth mentioning that days ago the us company published its seventh consecutive quarterly balance with solid earnings', 'from january to march 2021 it achieved an income of 10380 million dollars which represents an increase of 74 more than the first quarter of the previous year', 'to find out more xenobots scientists create a new generation of living bots similarly it declared a record quarterly profit in its history with 438 million dollars', 'during the report the company disclosed that it sold 10 of its bitcoin for a value of 272 million dollars during this last quarter', 'from this sum they have obtained profits of approximately 101 million dollars', 'recall that two months ago tesla surprised everyone by announcing that it had invested 1500 million dollars in bitcoin and then redoubled its bet by announcing that its vehicles could be bought with this cryptocurrency', 'for his part zack kirkhorn tesla s cfo said that bitcoin is a longterm bet for the company we believe in the longterm value of bitcoin and we will keep it that way', 'it should be noted that tesla was one of the first companies to announce that it was going to accept bitcoins as a means of payment and such was the impact that the news generated that elon musk s own statements moved several times up and down the price of the most popular of cryptocurrencies', 'but picking up on tesla s foray into the world of artificial intelligence we should note that musk has for some time promoted the idea that investors see the firm not only as a carmaker and an energy company but as a group of startups', 'the entrepreneur has argued for months that tesla s service centers are a startup tesla s insurance company is a startup tesla s automation group is a startup etc', 'in this sense the also cofounder of spacex affirms that artificial intelligence and robotics will become as synonymous with tesla as cars and energy already are', 'find out more why data is the world s most valuable resource today and it is that the south african tycoon has been betting and investing in artificial intelligence companies for years', 'an example of this is openai a company he founded in 2015 together with sam altman ilya sutskever greg brockman and wojciech zaremba', 'openai emerged with the objective of investigating and democratizing access to general artificial intelligence', 'originally it was a nonprofit organization', 'however in 2020 it became a company and partnered with microsoft in order to achieve new advances both in the field of language with gpt3 models and in the field of robotics and computer vision', 'but musk aspires to more think robotaxis artificial intelligence and power provision', 'tesla will not be remembered so much as a car company but as one of artificial intelligence and robotics said the british magazine the economist', 'in fact musk believes that he is about to overcome the challenge of the selfguided vehicle based on 6 cameras machine learning one of the pillars of artificial intelligence and a computerized brain capable of reacting at superhuman speed', '', 'additionally the company continues to work on the dojo a supercomputer for training tesla s autonomous ai', 'musk has previously claimed that tesla s dojo supercomputer will be capable of performing an exaflop a quintillion 1018 of floating point operations per second or 1000 petaflops making it one of the most powerful computers in the world', 'it will be optimized to train neural networks and will be made available to other companies', 'according to the economist if elon musk manages to mix cars artificial intelligence software and energy his market will be extraordinarily broad', 'and as musk himself recently stated tesla will become better known as a robotics firm in artificial intelligence']\n"
     ]
    }
   ],
   "source": [
    "from nltk.tokenize import sent_tokenize,word_tokenize\n",
    "import regex\n",
    "import string\n",
    "\n",
    "# remove punctuation from tokenized sentences\n",
    "def remove_punctuation(sentences):\n",
    "  sent_list=[]\n",
    "  for sent in sentences:\n",
    "    words=word_tokenize(sent)\n",
    "    str=\"\"\n",
    "    for i in range(len(words)):\n",
    "      x=regex.sub(\"[^\\w\\s]|_\",\"\",words[i]).strip()\n",
    "      str=str+\" \"+x\n",
    "      str=str.strip()\n",
    "    sent_list.append(str)\n",
    "  return sent_list\n",
    "\n",
    "sentences=remove_punctuation(sentences)\n",
    "print(sentences)"
   ]
  },
  {
   "cell_type": "code",
   "execution_count": 23,
   "metadata": {},
   "outputs": [
    {
     "name": "stdout",
     "output_type": "stream",
     "text": [
      "['tesla ceo elon musk recent announc that the compani is no longer just a manufactur of electr car , but that they are current dabbl in artifici intellig with the develop of one of the strongest hardwar and softwar ai team in the world .', 'world .', \"`` the softwar that exist to solv the problem of autonom drive wa realli quit primit , so we built a team from scratch and have been develop what we believ is probabl the most advanc artifici intellig in the real world , '' reveal the tech leader to analyst dure the call to releas tesla 's financi statu for the first quarter of 2021. it is worth mention that day ago the us compani publish it seventh consecut quarterli balanc with solid earn .\", 'from januari to march 2021 , it achiev an incom of 10,380 million dollar , which repres an increas of 74 % more than the first quarter of the previou year .', 'to find out more : xenobot : scientist creat a new gener of live bot similarli , it declar a record quarterli profit in it histori with 438 million dollar .', 'dure the report , the compani disclos that it sold 10 % of it bitcoin for a valu of 272 million dollar dure thi last quarter .', 'from thi sum they have obtain profit of approxim 101 million dollar .', 'recal that two month ago tesla surpris everyon by announc that it had invest 1,500 million dollar in bitcoin and then redoubl it bet by announc that it vehicl could be bought with thi cryptocurr .', \"for hi part , zack kirkhorn , tesla 's cfo , said that bitcoin is a long-term bet for the compani : `` we believ in the long-term valu of bitcoin and we will keep it that way . ''\", \"it should be note that tesla wa one of the first compani to announc that it wa go to accept bitcoin as a mean of payment , and such wa the impact that the news gener that elon musk 's own statement move sever time , up and down , the price of the most popular of cryptocurr .\", \"but pick up on tesla 's foray into the world of artifici intellig , we should note that musk ha for some time promot the idea that investor see the firm not onli as a carmak and an energi compani , but as a group of startup .\", \"the entrepreneur ha argu for month that tesla 's servic center are a startup , tesla 's insur compani is a startup , tesla 's autom group is a startup , etc .\", 'in thi sens , the also co-found of spacex , affirm that artifici intellig and robot will becom as synonym with tesla as car and energi alreadi are .', \"find out more : whi data is the world 's most valuabl resourc today and it is that the south african tycoon ha been bet and invest in artifici intellig compani for year .\", 'an exampl of thi is openai , a compani he found in 2015 togeth with sam altman , ilya sutskev , greg brockman and wojciech zaremba .', 'openai emerg with the object of investig and democrat access to gener artifici intellig .', 'origin , it wa a non-profit organ .', 'howev , in 2020 , it becam a compani and partner with microsoft in order to achiev new advanc , both in the field of languag with gpt-3 model , and in the field of robot and comput vision .', 'but musk aspir to more : think robotaxi , artifici intellig and power provis .', 'tesla will not be rememb so much as a car compani , but as one of artifici intellig and robot , said the british magazin the economist .', \"in fact , musk believ that he is about to overcom the challeng of the self-guid vehicl base on 6 camera , `` machin learn `` ( one of the pillar of artifici intellig ) and a computer `` brain '' capabl of react at superhuman speed .\", '.', \"addit , the compani continu to work on the dojo , a supercomput for train tesla 's autonom ai .\", \"musk ha previous claim that tesla 's dojo supercomput will be capabl of perform an exaflop , a quintillion ( 1018 ) of float point oper per second , or 1,000 petaflop , make it one of the most power comput in the world .\", 'it will be optim to train neural network and will be made avail to other compani .', 'accord to the economist , if elon musk manag to mix car , artifici intellig , softwar and energi , hi market will be extraordinarili broad .', 'and , as musk himself recent state , tesla will becom better known as a robot firm in artifici intellig .']\n"
     ]
    }
   ],
   "source": [
    "from nltk.stem import PorterStemmer\n",
    "from nltk.tokenize import word_tokenize\n",
    "\n",
    "# apply porter stemmer \n",
    "\n",
    "def remove_stemming(sentences):\n",
    "  stemmer=PorterStemmer()\n",
    "  sent_list=[]\n",
    "  for sent in sentences:\n",
    "    words=word_tokenize(sent)\n",
    "    words=[stemmer.stem(word) for word in words]\n",
    "    words=\" \".join(words)\n",
    "    sent_list.append(words)\n",
    "  return sent_list\n",
    "\n",
    "sentences=remove_stemming(sentences)\n",
    "print(sentences)"
   ]
  },
  {
   "cell_type": "code",
   "execution_count": 27,
   "metadata": {},
   "outputs": [
    {
     "name": "stdout",
     "output_type": "stream",
     "text": [
      "4\n",
      "tesla ceo elon musk recently announced that the company is no longer just a manufacturer of electric cars, but that they are currently dabbling in artificial intelligence with the development of one of the strongest hardware and software ai teams in the world.\"the software that existed to solve the problem of autonomous driving was really quite primitive, so we built a team from scratch and have been developing what we believe is probably the most advanced artificial intelligence in the real world,\" revealed the tech leader to analysts during the call to release tesla's financial status for the first quarter of 2021.it should be noted that tesla was one of the first companies to announce that it was going to accept bitcoins as a means of payment , and such was the impact that the news generated that elon musk's own statements moved several times, up and down, the price of the most popular of cryptocurrencies.but picking up on tesla's foray into the world of artificial intelligence, we should note that musk has for some time promoted the idea that investors see the firm not only as a carmaker and an energy company, but as a group of startups .\n"
     ]
    }
   ],
   "source": [
    "#text rank using sumy\n",
    "import sumy\n",
    "parser = PlaintextParser.from_string(text,Tokenizer(\"english\"))\n",
    "from sumy.summarizers.text_rank import TextRankSummarizer\n",
    "\n",
    "n = int(input())\n",
    "summarizer = TextRankSummarizer()\n",
    "summary =summarizer(parser.document,n)\n",
    "text_summary=\"\"\n",
    "\n",
    "for sentence in summary:\n",
    "    text_summary+=str(sentence)\n",
    "    \n",
    "print(text_summary)"
   ]
  },
  {
   "cell_type": "code",
   "execution_count": 28,
   "metadata": {},
   "outputs": [
    {
     "name": "stdout",
     "output_type": "stream",
     "text": [
      "5\n",
      "tesla ceo elon musk recently announced that the company is no longer just a manufacturer of electric cars, but that they are currently dabbling in artificial intelligence with the development of one of the strongest hardware and software ai teams in the world.\"the software that existed to solve the problem of autonomous driving was really quite primitive, so we built a team from scratch and have been developing what we believe is probably the most advanced artificial intelligence in the real world,\" revealed the tech leader to analysts during the call to release tesla's financial status for the first quarter of 2021.during the report, the company disclosed that it sold 10% of its bitcoin for a value of 272 million dollars during this last quarter .but picking up on tesla's foray into the world of artificial intelligence, we should note that musk has for some time promoted the idea that investors see the firm not only as a carmaker and an energy company, but as a group of startups .according to the economist , if elon musk manages to mix cars, artificial intelligence, software and energy, his market will be extraordinarily broad .\n"
     ]
    }
   ],
   "source": [
    "from sumy.summarizers.lex_rank import LexRankSummarizer \n",
    "parser = PlaintextParser.from_string(text,Tokenizer(\"english\"))\n",
    "\n",
    "n = int(input())\n",
    "summarizer = LexRankSummarizer()\n",
    "summary =summarizer(parser.document,n)\n",
    "text_summary=\"\"\n",
    "\n",
    "for sentence in summary:\n",
    "    text_summary+=str(sentence)\n",
    "    \n",
    "print(text_summary)\n"
   ]
  },
  {
   "cell_type": "code",
   "execution_count": 31,
   "metadata": {},
   "outputs": [
    {
     "name": "stdout",
     "output_type": "stream",
     "text": [
      "4\n",
      "tesla ceo elon musk recently announced that the company is no longer just a manufacturer of electric cars, but that they are currently dabbling in artificial intelligence with the development of one of the strongest hardware and software ai teams in the world.\n",
      "\"the software that existed to solve the problem of autonomous driving was really quite primitive, so we built a team from scratch and have been developing what we believe is probably the most advanced artificial intelligence in the real world,\" revealed the tech leader to analysts during the call to release tesla's financial status for the first quarter of 2021.\n",
      "for his part, zack kirkhorn , tesla's cfo, said that bitcoin is a long-term bet for the company: \"we believe in the long-term value of bitcoin and we will keep it that way.\"\n",
      "but picking up on tesla's foray into the world of artificial intelligence, we should note that musk has for some time promoted the idea that investors see the firm not only as a carmaker and an energy company, but as a group of startups .\n"
     ]
    }
   ],
   "source": [
    "from sumy.summarizers.luhn import LuhnSummarizer \n",
    "parser = PlaintextParser.from_string(text, Tokenizer(\"english\"))\n",
    "\n",
    "n = int(input())\n",
    "summarizer_luhn = LuhnSummarizer()\n",
    "summary = summarizer_luhn(parser.document, n) \n",
    "text_summary=\"\"\n",
    "\n",
    "for sentence in summary:\n",
    "    text_summary+=str(sentence)\n",
    "\n",
    "for sentence in summary:\n",
    "    print (sentence)"
   ]
  },
  {
   "cell_type": "code",
   "execution_count": 33,
   "metadata": {},
   "outputs": [
    {
     "name": "stdout",
     "output_type": "stream",
     "text": [
      "5\n",
      "it is worth mentioning that days ago the us company published its seventh consecutive quarterly balance with solid earnings .\n",
      "for his part, zack kirkhorn , tesla's cfo, said that bitcoin is a long-term bet for the company: \"we believe in the long-term value of bitcoin and we will keep it that way.\"\n",
      "find out more: why data is the world's most valuable resource today and it is that the south african tycoon has been betting and investing in artificial intelligence companies for years .\n",
      "an example of this is openai , a company he founded in 2015 together with sam altman , ilya sutskever , greg brockman and wojciech zaremba .\n",
      "openai emerged with the objective of investigating and democratizing access to general artificial intelligence .\n"
     ]
    }
   ],
   "source": [
    "from sumy.summarizers.lsa import LsaSummarizer \n",
    "parser = PlaintextParser.from_string(text, Tokenizer(\"english\"))\n",
    "\n",
    "n = int(input())\n",
    "summarizer_lsa = LsaSummarizer()\n",
    "summary = summarizer_lsa(parser.document, n) \n",
    "text_summary=\"\"\n",
    "\n",
    "for sentence in summary:\n",
    "    text_summary+=str(sentence)\n",
    "\n",
    "for sentence in summary:\n",
    "    print (sentence)"
   ]
  },
  {
   "cell_type": "code",
   "execution_count": 34,
   "metadata": {},
   "outputs": [
    {
     "name": "stdout",
     "output_type": "stream",
     "text": [
      "5\n",
      "world .\n",
      "from january to march 2021, it achieved an income of 10,380 million dollars , which represents an increase of 74% more than the first quarter of the previous year.\n",
      "during the report, the company disclosed that it sold 10% of its bitcoin for a value of 272 million dollars during this last quarter .\n",
      "the entrepreneur has argued for months that tesla's service centers are a startup , tesla's insurance company is a startup , tesla's automation group is a startup , etc.\n",
      "originally, it was a non-profit organization.\n"
     ]
    }
   ],
   "source": [
    "from sumy.summarizers.kl import KLSummarizer\n",
    "parser = PlaintextParser.from_string(text, Tokenizer(\"english\"))\n",
    "\n",
    "n = int(input())\n",
    "summarizer_kl = KLSummarizer()\n",
    "summary = summarizer_kl(parser.document, n) \n",
    "text_summary=\"\"\n",
    "\n",
    "for sentence in summary:\n",
    "    text_summary+=str(sentence)\n",
    "\n",
    "for sentence in summary:\n",
    "    print (sentence)\n"
   ]
  },
  {
   "cell_type": "code",
   "execution_count": null,
   "metadata": {},
   "outputs": [],
   "source": []
  }
 ],
 "metadata": {
  "kernelspec": {
   "display_name": "Python 3",
   "language": "python",
   "name": "python3"
  },
  "language_info": {
   "codemirror_mode": {
    "name": "ipython",
    "version": 3
   },
   "file_extension": ".py",
   "mimetype": "text/x-python",
   "name": "python",
   "nbconvert_exporter": "python",
   "pygments_lexer": "ipython3",
   "version": "3.8.3"
  }
 },
 "nbformat": 4,
 "nbformat_minor": 4
}
