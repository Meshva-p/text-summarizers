{
 "cells": [
  {
   "cell_type": "code",
   "execution_count": 1,
   "metadata": {},
   "outputs": [],
   "source": [
    "text=\"\"\"Gender equality is, first and foremost, a human right. A woman is entitled to live in dignity and in freedom from want and from fear. Empowering women is also an indispensable tool for advancing development and reducing poverty. Empowered women contribute to the health and productivity of whole families and communities and to improved prospects for the next generation. The importance of gender equality is underscored by its inclusion as one of the eight Millennium Development Goals. Gender equality is acknowledged as being a key to achieving the other seven goals. Yet discrimination against women and girls - including gender-based violence, economic discrimination, reproductive health inequities, and harmful traditional practices - remains the most pervasive and persistent form of inequality. Women and girls bear enormous hardship during and after humanitarian emergencies, especially armed conflicts. There have been several organisations and institutions advocating for women, promoting legal and policy reforms and gender-sensitive data collection, and supporting projects that improve women's health and expand their choices in life. Despite many international agreements affirming their human rights, women are still much more likely than men to be poor and illiterate. They usually have less access than men to medical care, property ownership, credit, training and employment. They are far less likely than men to be politically active and far more likely to be victims of domestic violence. The ability of women to control their own fertility is absolutely fundamental to women’s empowerment and equality. When a woman can plan her family, she can plan the rest of her life. When she is healthy, she can be more productive. And when her reproductive rights — including the right to decide the number, timing and spacing of her children, and to make decisions regarding reproduction free of discrimination, coercion and violence — are promoted and protected, she has freedom to participate more fully and equally in society. Gender equality implies a society in which women and men enjoy the same opportunities, outcomes, rights and obligations in all spheres of life. Equality between men and women exists when both sexes are able to share equally in the distribution of power and influence; have equal opportunities for financial independence through work or through setting up businesses; enjoy equal access to education and the opportunity to develop personal ambitions. A critical aspect of promoting gender equality is the empowerment of women, with a focus on identifying and redressing power imbalances and giving women more autonomy to manage their own lives. Women's empowerment is vital to sustainable development and the realization of human rights for all. Where women’s status is low, family size tends to be large, which makes it more difficult for families to thrive. Population and development and reproductive health programmes are more effective when they address the educational opportunities, status and empowerment of women. When women are empowered, whole families benefit, and these benefits often have ripple effects to future generations. The roles that men and women play in society are not biologically determined - they are socially determined, changing and changeable. Although they may be justified as being required by culture or religion, these roles vary widely by locality and change over time. Key issues and linkages: 1)Reproductive health: Women, for both physiological and social reasons, are more vulnerable than men to reproductive health problems. Reproductive health problems, including maternal mortality and morbidity, represent a major - but preventable - cause of death and disability for women in developing countries. Failure to provide information, services and conditions to help women protect their reproduction health therefore constitutes gender-based discrimination and a violation of women’s rights to health and life. 2) Stewardship of natural resources: Women in developing nations are usually in charge of securing water, food and fuel and of overseeing family health and diet. Therefore, they tend to put into immediate practice whatever they learn about nutrition and preserving the environment and natural resources. Economic empowerment: More women than men live in poverty. Economic disparities persist partly because much of the unpaid work within families and communities falls on the shoulders of women and because they face discrimination in the economic sphere. Educational empowerment: About two thirds of the illiterate adults in the world are female. Higher levels of women's education are strongly associated with both lower infant mortality and lower fertility, as well as with higher levels of education and economic opportunity for their children. Political empowerment: Social and legal institutions still do not guarantee women equality in basic legal and human rights, in access to or control of land or other resources, in employment and earning, and social and political participation. Laws against domestic violence are often not enforced on behalf of women. Experience has shown that addressing gender equality and women’s empowerment requires strategic interventions at all levels of programming and policy-making. Women’s Work and Economic Empowerment: In nearly every country, women work longer hours than men, but are usually paid less and are more likely to live in poverty. In subsistence economies, women spend much of the day performing tasks to maintain the household, such as carrying water and collecting fuel wood. In many countries women are also responsible for agricultural production and selling. Often they take on paid work or entrepreneurial enterprises as well. Unpaid domestic work – from food preparation to care giving – directly affects the health and overall well being and quality of life of children and other household members. The need for women’s unpaid labour often increases with economic shocks, such as those associated with the AIDS pandemic or economic restructuring. Yet women's voices and lived experiences – whether as workers (paid and unpaid), citizens, or consumers – are still largely missing from debates on finance and development. Poor women do more unpaid work, work longer hours and may accept degrading working conditions during times of crisis, just to ensure that their families survive. Intergenerational gender gaps: The differences in the work patterns of men and women, and the 'invisibility' of work that is not included in national accounts, lead to lower entitlements to women than to men. Women’s lower access to resources and the lack of attention to gender in macroeconomic policy adds to the inequity, which, in turn, perpetuates gender gaps. For example, when girls reach adolescence they are typically expected to spend more time in household activities, while boys spend more time on farming or wage work. By the time girls and boys become adults; females generally work longer hours than males, have less experience in the labour force, earn less income and have less leisure, recreation or rest time. This has implications for investments in the next generation. If parents view daughters as less likely to take paid work or earn market wages, they may be less inclined to invest in their education, women's fastest route out of poverty. Empowering Women through Education: \"Education is one of the most important means of empowering women with the knowledge, skills and self-confidence necessary to participate fully in the development process.\" \n",
    "\n",
    "\"\"\""
   ]
  },
  {
   "cell_type": "code",
   "execution_count": 2,
   "metadata": {},
   "outputs": [
    {
     "name": "stdout",
     "output_type": "stream",
     "text": [
      "Requirement already satisfied: regex in c:\\users\\cse_it\\anaconda3\\lib\\site-packages (2020.6.8)\n",
      "Note: you may need to restart the kernel to use updated packages.\n"
     ]
    }
   ],
   "source": [
    "pip install regex"
   ]
  },
  {
   "cell_type": "code",
   "execution_count": 3,
   "metadata": {},
   "outputs": [
    {
     "name": "stderr",
     "output_type": "stream",
     "text": [
      "[nltk_data] Downloading package punkt to\n",
      "[nltk_data]     C:\\Users\\CSE_IT\\AppData\\Roaming\\nltk_data...\n",
      "[nltk_data]   Package punkt is already up-to-date!\n",
      "[nltk_data] Downloading package stopwords to\n",
      "[nltk_data]     C:\\Users\\CSE_IT\\AppData\\Roaming\\nltk_data...\n",
      "[nltk_data]   Package stopwords is already up-to-date!\n"
     ]
    },
    {
     "data": {
      "text/plain": [
       "True"
      ]
     },
     "execution_count": 3,
     "metadata": {},
     "output_type": "execute_result"
    }
   ],
   "source": [
    "import nltk\n",
    "nltk.download('punkt')\n",
    "nltk.download('stopwords')"
   ]
  },
  {
   "cell_type": "code",
   "execution_count": 4,
   "metadata": {},
   "outputs": [
    {
     "name": "stdout",
     "output_type": "stream",
     "text": [
      "['gender equality is, first and foremost, a human right.', 'a woman is entitled to live in dignity and in freedom from want and from fear.', 'empowering women is also an indispensable tool for advancing development and reducing poverty.', 'empowered women contribute to the health and productivity of whole families and communities and to improved prospects for the next generation.', 'the importance of gender equality is underscored by its inclusion as one of the eight millennium development goals.', 'gender equality is acknowledged as being a key to achieving the other seven goals.', 'yet discrimination against women and girls - including gender-based violence, economic discrimination, reproductive health inequities, and harmful traditional practices - remains the most pervasive and persistent form of inequality.', 'women and girls bear enormous hardship during and after humanitarian emergencies, especially armed conflicts.', \"there have been several organisations and institutions advocating for women, promoting legal and policy reforms and gender-sensitive data collection, and supporting projects that improve women's health and expand their choices in life.\", 'despite many international agreements affirming their human rights, women are still much more likely than men to be poor and illiterate.', 'they usually have less access than men to medical care, property ownership, credit, training and employment.', 'they are far less likely than men to be politically active and far more likely to be victims of domestic violence.', 'the ability of women to control their own fertility is absolutely fundamental to women’s empowerment and equality.', 'when a woman can plan her family, she can plan the rest of her life.', 'when she is healthy, she can be more productive.', 'and when her reproductive rights — including the right to decide the number, timing and spacing of her children, and to make decisions regarding reproduction free of discrimination, coercion and violence — are promoted and protected, she has freedom to participate more fully and equally in society.', 'gender equality implies a society in which women and men enjoy the same opportunities, outcomes, rights and obligations in all spheres of life.', 'equality between men and women exists when both sexes are able to share equally in the distribution of power and influence; have equal opportunities for financial independence through work or through setting up businesses; enjoy equal access to education and the opportunity to develop personal ambitions.', 'a critical aspect of promoting gender equality is the empowerment of women, with a focus on identifying and redressing power imbalances and giving women more autonomy to manage their own lives.', \"women's empowerment is vital to sustainable development and the realization of human rights for all.\", 'where women’s status is low, family size tends to be large, which makes it more difficult for families to thrive.', 'population and development and reproductive health programmes are more effective when they address the educational opportunities, status and empowerment of women.', 'when women are empowered, whole families benefit, and these benefits often have ripple effects to future generations.', 'the roles that men and women play in society are not biologically determined - they are socially determined, changing and changeable.', 'although they may be justified as being required by culture or religion, these roles vary widely by locality and change over time.', 'key issues and linkages: 1)reproductive health: women, for both physiological and social reasons, are more vulnerable than men to reproductive health problems.', 'reproductive health problems, including maternal mortality and morbidity, represent a major - but preventable - cause of death and disability for women in developing countries.', 'failure to provide information, services and conditions to help women protect their reproduction health therefore constitutes gender-based discrimination and a violation of women’s rights to health and life.', '2) stewardship of natural resources: women in developing nations are usually in charge of securing water, food and fuel and of overseeing family health and diet.', 'therefore, they tend to put into immediate practice whatever they learn about nutrition and preserving the environment and natural resources.', 'economic empowerment: more women than men live in poverty.', 'economic disparities persist partly because much of the unpaid work within families and communities falls on the shoulders of women and because they face discrimination in the economic sphere.', 'educational empowerment: about two thirds of the illiterate adults in the world are female.', \"higher levels of women's education are strongly associated with both lower infant mortality and lower fertility, as well as with higher levels of education and economic opportunity for their children.\", 'political empowerment: social and legal institutions still do not guarantee women equality in basic legal and human rights, in access to or control of land or other resources, in employment and earning, and social and political participation.', 'laws against domestic violence are often not enforced on behalf of women.', 'experience has shown that addressing gender equality and women’s empowerment requires strategic interventions at all levels of programming and policy-making.', 'women’s work and economic empowerment: in nearly every country, women work longer hours than men, but are usually paid less and are more likely to live in poverty.', 'in subsistence economies, women spend much of the day performing tasks to maintain the household, such as carrying water and collecting fuel wood.', 'in many countries women are also responsible for agricultural production and selling.', 'often they take on paid work or entrepreneurial enterprises as well.', 'unpaid domestic work – from food preparation to care giving – directly affects the health and overall well being and quality of life of children and other household members.', 'the need for women’s unpaid labour often increases with economic shocks, such as those associated with the aids pandemic or economic restructuring.', \"yet women's voices and lived experiences – whether as workers (paid and unpaid), citizens, or consumers – are still largely missing from debates on finance and development.\", 'poor women do more unpaid work, work longer hours and may accept degrading working conditions during times of crisis, just to ensure that their families survive.', \"intergenerational gender gaps: the differences in the work patterns of men and women, and the 'invisibility' of work that is not included in national accounts, lead to lower entitlements to women than to men.\", 'women’s lower access to resources and the lack of attention to gender in macroeconomic policy adds to the inequity, which, in turn, perpetuates gender gaps.', 'for example, when girls reach adolescence they are typically expected to spend more time in household activities, while boys spend more time on farming or wage work.', 'by the time girls and boys become adults; females generally work longer hours than males, have less experience in the labour force, earn less income and have less leisure, recreation or rest time.', 'this has implications for investments in the next generation.', \"if parents view daughters as less likely to take paid work or earn market wages, they may be less inclined to invest in their education, women's fastest route out of poverty.\", 'empowering women through education: \"education is one of the most important means of empowering women with the knowledge, skills and self-confidence necessary to participate fully in the development process.\"']\n"
     ]
    }
   ],
   "source": [
    "from nltk.tokenize import sent_tokenize,word_tokenize\n",
    "import regex\n",
    "\n",
    "#tokenize sentences \n",
    "def tokenize_sentence(text):\n",
    "  sents=sent_tokenize(text) \n",
    "  sent_list=[]\n",
    "  for sent in sents:\n",
    "    sent=sent.strip()\n",
    "    sent=sent.lower() \n",
    "    sent_list.append(sent)\n",
    "  return(sent_list)\n",
    "\n",
    "\n",
    "sentences=tokenize_sentence(text)\n",
    "sent_for_print=sentences\n",
    "print(sentences)"
   ]
  },
  {
   "cell_type": "code",
   "execution_count": 5,
   "metadata": {},
   "outputs": [
    {
     "name": "stdout",
     "output_type": "stream",
     "text": [
      "['gender equality is first and foremost a human right', 'a woman is entitled to live in dignity and in freedom from want and from fear', 'empowering women is also an indispensable tool for advancing development and reducing poverty', 'empowered women contribute to the health and productivity of whole families and communities and to improved prospects for the next generation', 'the importance of gender equality is underscored by its inclusion as one of the eight millennium development goals', 'gender equality is acknowledged as being a key to achieving the other seven goals', 'yet discrimination against women and girls including genderbased violence economic discrimination reproductive health inequities and harmful traditional practices remains the most pervasive and persistent form of inequality', 'women and girls bear enormous hardship during and after humanitarian emergencies especially armed conflicts', 'there have been several organisations and institutions advocating for women promoting legal and policy reforms and gendersensitive data collection and supporting projects that improve women s health and expand their choices in life', 'despite many international agreements affirming their human rights women are still much more likely than men to be poor and illiterate', 'they usually have less access than men to medical care property ownership credit training and employment', 'they are far less likely than men to be politically active and far more likely to be victims of domestic violence', 'the ability of women to control their own fertility is absolutely fundamental to women s empowerment and equality', 'when a woman can plan her family she can plan the rest of her life', 'when she is healthy she can be more productive', 'and when her reproductive rights including the right to decide the number timing and spacing of her children and to make decisions regarding reproduction free of discrimination coercion and violence are promoted and protected she has freedom to participate more fully and equally in society', 'gender equality implies a society in which women and men enjoy the same opportunities outcomes rights and obligations in all spheres of life', 'equality between men and women exists when both sexes are able to share equally in the distribution of power and influence have equal opportunities for financial independence through work or through setting up businesses enjoy equal access to education and the opportunity to develop personal ambitions', 'a critical aspect of promoting gender equality is the empowerment of women with a focus on identifying and redressing power imbalances and giving women more autonomy to manage their own lives', 'women s empowerment is vital to sustainable development and the realization of human rights for all', 'where women s status is low family size tends to be large which makes it more difficult for families to thrive', 'population and development and reproductive health programmes are more effective when they address the educational opportunities status and empowerment of women', 'when women are empowered whole families benefit and these benefits often have ripple effects to future generations', 'the roles that men and women play in society are not biologically determined they are socially determined changing and changeable', 'although they may be justified as being required by culture or religion these roles vary widely by locality and change over time', 'key issues and linkages 1 reproductive health women for both physiological and social reasons are more vulnerable than men to reproductive health problems', 'reproductive health problems including maternal mortality and morbidity represent a major but preventable cause of death and disability for women in developing countries', 'failure to provide information services and conditions to help women protect their reproduction health therefore constitutes genderbased discrimination and a violation of women s rights to health and life', '2 stewardship of natural resources women in developing nations are usually in charge of securing water food and fuel and of overseeing family health and diet', 'therefore they tend to put into immediate practice whatever they learn about nutrition and preserving the environment and natural resources', 'economic empowerment more women than men live in poverty', 'economic disparities persist partly because much of the unpaid work within families and communities falls on the shoulders of women and because they face discrimination in the economic sphere', 'educational empowerment about two thirds of the illiterate adults in the world are female', 'higher levels of women s education are strongly associated with both lower infant mortality and lower fertility as well as with higher levels of education and economic opportunity for their children', 'political empowerment social and legal institutions still do not guarantee women equality in basic legal and human rights in access to or control of land or other resources in employment and earning and social and political participation', 'laws against domestic violence are often not enforced on behalf of women', 'experience has shown that addressing gender equality and women s empowerment requires strategic interventions at all levels of programming and policymaking', 'women s work and economic empowerment in nearly every country women work longer hours than men but are usually paid less and are more likely to live in poverty', 'in subsistence economies women spend much of the day performing tasks to maintain the household such as carrying water and collecting fuel wood', 'in many countries women are also responsible for agricultural production and selling', 'often they take on paid work or entrepreneurial enterprises as well', 'unpaid domestic work from food preparation to care giving directly affects the health and overall well being and quality of life of children and other household members', 'the need for women s unpaid labour often increases with economic shocks such as those associated with the aids pandemic or economic restructuring', 'yet women s voices and lived experiences whether as workers paid and unpaid citizens or consumers are still largely missing from debates on finance and development', 'poor women do more unpaid work work longer hours and may accept degrading working conditions during times of crisis just to ensure that their families survive', 'intergenerational gender gaps the differences in the work patterns of men and women and the invisibility of work that is not included in national accounts lead to lower entitlements to women than to men', 'women s lower access to resources and the lack of attention to gender in macroeconomic policy adds to the inequity which in turn perpetuates gender gaps', 'for example when girls reach adolescence they are typically expected to spend more time in household activities while boys spend more time on farming or wage work', 'by the time girls and boys become adults females generally work longer hours than males have less experience in the labour force earn less income and have less leisure recreation or rest time', 'this has implications for investments in the next generation', 'if parents view daughters as less likely to take paid work or earn market wages they may be less inclined to invest in their education women s fastest route out of poverty', 'empowering women through education education is one of the most important means of empowering women with the knowledge skills and selfconfidence necessary to participate fully in the development process']\n"
     ]
    }
   ],
   "source": [
    "from nltk.tokenize import sent_tokenize,word_tokenize\n",
    "import regex\n",
    "import string\n",
    "def remove_punctuation(sentences):\n",
    "  sent_list=[]\n",
    "  for sent in sentences:\n",
    "    words=word_tokenize(sent)\n",
    "    str=\"\"\n",
    "    for i in range(len(words)):\n",
    "      x=regex.sub(\"[^\\w\\s]|_\",\"\",words[i]).strip()\n",
    "      str=str+\" \"+x\n",
    "      str=str.strip()\n",
    "    sent_list.append(str)\n",
    "  return sent_list\n",
    "\n",
    "sentences=remove_punctuation(sentences)\n",
    "print(sentences)"
   ]
  },
  {
   "cell_type": "code",
   "execution_count": 6,
   "metadata": {},
   "outputs": [
    {
     "name": "stdout",
     "output_type": "stream",
     "text": [
      "['gender equality first foremost human right', 'woman entitled live dignity freedom want fear', 'empowering women also indispensable tool advancing development reducing poverty', 'empowered women contribute health productivity whole families communities improved prospects next generation', 'importance gender equality underscored inclusion one eight millennium development goals', 'gender equality acknowledged key achieving seven goals', 'yet discrimination women girls including genderbased violence economic discrimination reproductive health inequities harmful traditional practices remains pervasive persistent form inequality', 'women girls bear enormous hardship humanitarian emergencies especially armed conflicts', 'several organisations institutions advocating women promoting legal policy reforms gendersensitive data collection supporting projects improve women health expand choices life', 'despite many international agreements affirming human rights women still much likely men poor illiterate', 'usually less access men medical care property ownership credit training employment', 'far less likely men politically active far likely victims domestic violence', 'ability women control fertility absolutely fundamental women empowerment equality', 'woman plan family plan rest life', 'healthy productive', 'reproductive rights including right decide number timing spacing children make decisions regarding reproduction free discrimination coercion violence promoted protected freedom participate fully equally society', 'gender equality implies society women men enjoy opportunities outcomes rights obligations spheres life', 'equality men women exists sexes able share equally distribution power influence equal opportunities financial independence work setting businesses enjoy equal access education opportunity develop personal ambitions', 'critical aspect promoting gender equality empowerment women focus identifying redressing power imbalances giving women autonomy manage lives', 'women empowerment vital sustainable development realization human rights', 'women status low family size tends large makes difficult families thrive', 'population development reproductive health programmes effective address educational opportunities status empowerment women', 'women empowered whole families benefit benefits often ripple effects future generations', 'roles men women play society biologically determined socially determined changing changeable', 'although may justified required culture religion roles vary widely locality change time', 'key issues linkages 1 reproductive health women physiological social reasons vulnerable men reproductive health problems', 'reproductive health problems including maternal mortality morbidity represent major preventable cause death disability women developing countries', 'failure provide information services conditions help women protect reproduction health therefore constitutes genderbased discrimination violation women rights health life', '2 stewardship natural resources women developing nations usually charge securing water food fuel overseeing family health diet', 'therefore tend put immediate practice whatever learn nutrition preserving environment natural resources', 'economic empowerment women men live poverty', 'economic disparities persist partly much unpaid work within families communities falls shoulders women face discrimination economic sphere', 'educational empowerment two thirds illiterate adults world female', 'higher levels women education strongly associated lower infant mortality lower fertility well higher levels education economic opportunity children', 'political empowerment social legal institutions still guarantee women equality basic legal human rights access control land resources employment earning social political participation', 'laws domestic violence often enforced behalf women', 'experience shown addressing gender equality women empowerment requires strategic interventions levels programming policymaking', 'women work economic empowerment nearly every country women work longer hours men usually paid less likely live poverty', 'subsistence economies women spend much day performing tasks maintain household carrying water collecting fuel wood', 'many countries women also responsible agricultural production selling', 'often take paid work entrepreneurial enterprises well', 'unpaid domestic work food preparation care giving directly affects health overall well quality life children household members', 'need women unpaid labour often increases economic shocks associated aids pandemic economic restructuring', 'yet women voices lived experiences whether workers paid unpaid citizens consumers still largely missing debates finance development', 'poor women unpaid work work longer hours may accept degrading working conditions times crisis ensure families survive', 'intergenerational gender gaps differences work patterns men women invisibility work included national accounts lead lower entitlements women men', 'women lower access resources lack attention gender macroeconomic policy adds inequity turn perpetuates gender gaps', 'example girls reach adolescence typically expected spend time household activities boys spend time farming wage work', 'time girls boys become adults females generally work longer hours males less experience labour force earn less income less leisure recreation rest time', 'implications investments next generation', 'parents view daughters less likely take paid work earn market wages may less inclined invest education women fastest route poverty', 'empowering women education education one important means empowering women knowledge skills selfconfidence necessary participate fully development process']\n"
     ]
    }
   ],
   "source": [
    "\n",
    "from nltk.tokenize import word_tokenize\n",
    "from nltk.corpus import stopwords\n",
    "def remove_stopwords(sentences):\n",
    "  stop_words=set(stopwords.words(\"english\"))\n",
    "   \n",
    "  sent_list=[]\n",
    "  for sent in sentences:\n",
    "    words=word_tokenize(sent)\n",
    "    words=[word for word in words if word not in stop_words]\n",
    "    words=\" \".join(words)\n",
    "    words=words.strip()\n",
    "    sent_list.append(words)\n",
    "  return sent_list\n",
    "\n",
    "sentences=remove_stopwords(sentences)\n",
    "print(sentences)"
   ]
  },
  {
   "cell_type": "code",
   "execution_count": 9,
   "metadata": {},
   "outputs": [
    {
     "name": "stdout",
     "output_type": "stream",
     "text": [
      "['gender equal first foremost human right', 'woman entitl live digniti freedom want fear', 'empow women also indispen tool advanc develop reduc poverti', 'empow women contribut health product whole famili commun improv prospect next gener', 'import gender equal underscor inclu one eight millennium develop goal', 'gender equal acknowledg key achiev seven goal', 'yet discrimin women girl includ genderba violenc econom discrimin reproduct health inequ harm tradit practic remain perva persist form inequ', 'women girl bear enorm hardship humanitarian emerg especi arm conflict', 'sever organi institut advoc women promot legal polici reform gendersensit data collect support project improv women health expand choic life', 'despit mani intern agreement affirm human right women still much like men poor illit', 'usual less access men medic care properti ownership credit train employ', 'far less like men polit activ far like victim domest violenc', 'abil women control fertil absolut fundament women empow equal', 'woman plan famili plan rest life', 'healthi product', 'reproduct right includ right decid number time space children make deci regard reproduct free discrimin coercion violenc promot protect freedom particip fulli equal societi', 'gender equal impli societi women men enjoy opportun outcom right oblig sphere life', 'equal men women exist sex abl share equal distribut power influenc equal opportun financ independ work set busi enjoy equal access educ opportun develop person ambit', 'critic aspect promot gender equal empow women focu identifi redress power imbal give women autonomi manag live', 'women empow vital sustain develop realiz human right', 'women statu low famili size tend larg make difficult famili thrive', 'popul develop reproduct health programm effect address educ opportun statu empow women', 'women empow whole famili benefit benefit often rippl effect futur gener', 'role men women play societi biolog determin social determin chang changeabl', 'although may justifi requir cultur religion role vari wide local chang time', 'key issu linkag 1 reproduct health women physiolog social reason vulner men reproduct health problem', 'reproduct health problem includ matern mortal morbid repr major prevent cau death disabl women develop countri', 'failur provid inform servic condit help women protect reproduct health therefor constitut genderba discrimin violat women right health life', '2 stewardship natur resourc women develop nation usual charg secur water food fuel overs famili health diet', 'therefor tend put immedi practic whatev learn nutrit preserv environ natur resourc', 'econom empow women men live poverti', 'econom dispar persist partli much unpaid work within famili commun fall shoulder women face discrimin econom sphere', 'educ empow two third illit adult world femal', 'higher level women educ strongli associ lower infant mortal lower fertil well higher level educ econom opportun children', 'polit empow social legal institut still guarant women equal basic legal human right access control land resourc employ earn social polit particip', 'law domest violenc often enforc behalf women', 'experi shown address gender equal women empow requir strateg interv level program policymak', 'women work econom empow nearli everi countri women work longer hour men usual paid less like live poverti', 'subsist economi women spend much day perform task maintain household carri water collect fuel wood', 'mani countri women also respon agricultur product sell', 'often take paid work entrepreneuri enterpri well', 'unpaid domest work food prepar care give directli affect health over well qualiti life children household member', 'need women unpaid labour often increa econom shock associ aid pandem econom restructur', 'yet women voic live experi whether worker paid unpaid citizen consum still larg miss debat financ develop', 'poor women unpaid work work longer hour may accept degrad work condit time crisi ensur famili surviv', 'intergen gender gap differ work pattern men women invi work includ nation account lead lower entitl women men', 'women lower access resourc lack attent gender macroeconom polici add inequ turn perpetu gender gap', 'exampl girl reach adolesc typic expect spend time household activ boy spend time farm wage work', 'time girl boy becom adult femal gener work longer hour male less experi labour forc earn less incom less leisur recreat rest time', 'implic invest next gener', 'parent view daughter less like take paid work earn market wage may less inclin invest educ women fastest rout poverti', 'empow women educ educ one import mean empow women knowledg skill selfconfid necessari particip fulli develop process']\n"
     ]
    }
   ],
   "source": [
    "from nltk.stem import PorterStemmer\n",
    "from nltk.tokenize import word_tokenize\n",
    "\n",
    "def remove_stemming(sentences):\n",
    "  stemmer=PorterStemmer()\n",
    "  sent_list=[]\n",
    "  for sent in sentences:\n",
    "    words=word_tokenize(sent)\n",
    "    words=[stemmer.stem(word) for word in words]\n",
    "    words=\" \".join(words)\n",
    "    sent_list.append(words)\n",
    "  return sent_list\n",
    "\n",
    "sentences=remove_stemming(sentences)\n",
    "print(sentences)"
   ]
  },
  {
   "cell_type": "code",
   "execution_count": 10,
   "metadata": {},
   "outputs": [
    {
     "name": "stdout",
     "output_type": "stream",
     "text": [
      "[{'sent_id': 0, 'sent_word_count': 6}, {'sent_id': 1, 'sent_word_count': 7}, {'sent_id': 2, 'sent_word_count': 9}, {'sent_id': 3, 'sent_word_count': 12}, {'sent_id': 4, 'sent_word_count': 10}, {'sent_id': 5, 'sent_word_count': 7}, {'sent_id': 6, 'sent_word_count': 20}, {'sent_id': 7, 'sent_word_count': 10}, {'sent_id': 8, 'sent_word_count': 20}, {'sent_id': 9, 'sent_word_count': 14}, {'sent_id': 10, 'sent_word_count': 11}, {'sent_id': 11, 'sent_word_count': 11}, {'sent_id': 12, 'sent_word_count': 9}, {'sent_id': 13, 'sent_word_count': 6}, {'sent_id': 14, 'sent_word_count': 2}, {'sent_id': 15, 'sent_word_count': 24}, {'sent_id': 16, 'sent_word_count': 13}, {'sent_id': 17, 'sent_word_count': 26}, {'sent_id': 18, 'sent_word_count': 17}, {'sent_id': 19, 'sent_word_count': 8}, {'sent_id': 20, 'sent_word_count': 11}, {'sent_id': 21, 'sent_word_count': 12}, {'sent_id': 22, 'sent_word_count': 11}, {'sent_id': 23, 'sent_word_count': 11}, {'sent_id': 24, 'sent_word_count': 12}, {'sent_id': 25, 'sent_word_count': 15}, {'sent_id': 26, 'sent_word_count': 16}, {'sent_id': 27, 'sent_word_count': 19}, {'sent_id': 28, 'sent_word_count': 17}, {'sent_id': 29, 'sent_word_count': 12}, {'sent_id': 30, 'sent_word_count': 6}, {'sent_id': 31, 'sent_word_count': 17}, {'sent_id': 32, 'sent_word_count': 8}, {'sent_id': 33, 'sent_word_count': 18}, {'sent_id': 34, 'sent_word_count': 22}, {'sent_id': 35, 'sent_word_count': 7}, {'sent_id': 36, 'sent_word_count': 13}, {'sent_id': 37, 'sent_word_count': 18}, {'sent_id': 38, 'sent_word_count': 15}, {'sent_id': 39, 'sent_word_count': 8}, {'sent_id': 40, 'sent_word_count': 7}, {'sent_id': 41, 'sent_word_count': 17}, {'sent_id': 42, 'sent_word_count': 13}, {'sent_id': 43, 'sent_word_count': 17}, {'sent_id': 44, 'sent_word_count': 17}, {'sent_id': 45, 'sent_word_count': 18}, {'sent_id': 46, 'sent_word_count': 15}, {'sent_id': 47, 'sent_word_count': 16}, {'sent_id': 48, 'sent_word_count': 23}, {'sent_id': 49, 'sent_word_count': 4}, {'sent_id': 50, 'sent_word_count': 20}, {'sent_id': 51, 'sent_word_count': 17}]\n"
     ]
    }
   ],
   "source": [
    "from nltk.tokenize import word_tokenize\n",
    "\n",
    "### optional - just to know the sentence , and the number of words in that sentence \n",
    "def sentence_information(sentences):\n",
    "  sent_info=[]\n",
    "  for i,sent in enumerate(sentences):\n",
    "    words=word_tokenize(sent)\n",
    "    sent_dict={\"sent_id\":i,\"sent_word_count\":len(words)}\n",
    "    sent_info.append(sent_dict)\n",
    "    \n",
    "  return sent_info\n",
    "    \n",
    "sent_info=sentence_information(sentences)\n",
    "print(sent_info)"
   ]
  },
  {
   "cell_type": "code",
   "execution_count": 15,
   "metadata": {},
   "outputs": [
    {
     "name": "stdout",
     "output_type": "stream",
     "text": [
      "[{'sent_id': 0, 'frequency_of_word': {'gender': 1, 'equal': 1, 'first': 1, 'foremost': 1, 'human': 1, 'right': 1}}, {'sent_id': 1, 'frequency_of_word': {'woman': 1, 'entitl': 1, 'live': 1, 'digniti': 1, 'freedom': 1, 'want': 1, 'fear': 1}}, {'sent_id': 2, 'frequency_of_word': {'empow': 1, 'women': 1, 'also': 1, 'indispen': 1, 'tool': 1, 'advanc': 1, 'develop': 1, 'reduc': 1, 'poverti': 1}}, {'sent_id': 3, 'frequency_of_word': {'empow': 1, 'women': 1, 'contribut': 1, 'health': 1, 'product': 1, 'whole': 1, 'famili': 1, 'commun': 1, 'improv': 1, 'prospect': 1, 'next': 1, 'gener': 1}}, {'sent_id': 4, 'frequency_of_word': {'import': 1, 'gender': 1, 'equal': 1, 'underscor': 1, 'inclu': 1, 'one': 1, 'eight': 1, 'millennium': 1, 'develop': 1, 'goal': 1}}, {'sent_id': 5, 'frequency_of_word': {'gender': 1, 'equal': 1, 'acknowledg': 1, 'key': 1, 'achiev': 1, 'seven': 1, 'goal': 1}}, {'sent_id': 6, 'frequency_of_word': {'yet': 1, 'discrimin': 2, 'women': 1, 'girl': 1, 'includ': 1, 'genderba': 1, 'violenc': 1, 'econom': 1, 'reproduct': 1, 'health': 1, 'inequ': 2, 'harm': 1, 'tradit': 1, 'practic': 1, 'remain': 1, 'perva': 1, 'persist': 1, 'form': 1}}, {'sent_id': 7, 'frequency_of_word': {'women': 1, 'girl': 1, 'bear': 1, 'enorm': 1, 'hardship': 1, 'humanitarian': 1, 'emerg': 1, 'especi': 1, 'arm': 1, 'conflict': 1}}, {'sent_id': 8, 'frequency_of_word': {'sever': 1, 'organi': 1, 'institut': 1, 'advoc': 1, 'women': 2, 'promot': 1, 'legal': 1, 'polici': 1, 'reform': 1, 'gendersensit': 1, 'data': 1, 'collect': 1, 'support': 1, 'project': 1, 'improv': 1, 'health': 1, 'expand': 1, 'choic': 1, 'life': 1}}, {'sent_id': 9, 'frequency_of_word': {'despit': 1, 'mani': 1, 'intern': 1, 'agreement': 1, 'affirm': 1, 'human': 1, 'right': 1, 'women': 1, 'still': 1, 'much': 1, 'like': 1, 'men': 1, 'poor': 1, 'illit': 1}}, {'sent_id': 10, 'frequency_of_word': {'usual': 1, 'less': 1, 'access': 1, 'men': 1, 'medic': 1, 'care': 1, 'properti': 1, 'ownership': 1, 'credit': 1, 'train': 1, 'employ': 1}}, {'sent_id': 11, 'frequency_of_word': {'far': 2, 'less': 1, 'like': 2, 'men': 1, 'polit': 1, 'activ': 1, 'victim': 1, 'domest': 1, 'violenc': 1}}, {'sent_id': 12, 'frequency_of_word': {'abil': 1, 'women': 2, 'control': 1, 'fertil': 1, 'absolut': 1, 'fundament': 1, 'empow': 1, 'equal': 1}}, {'sent_id': 13, 'frequency_of_word': {'woman': 1, 'plan': 2, 'famili': 1, 'rest': 1, 'life': 1}}, {'sent_id': 14, 'frequency_of_word': {'healthi': 1, 'product': 1}}, {'sent_id': 15, 'frequency_of_word': {'reproduct': 2, 'right': 2, 'includ': 1, 'decid': 1, 'number': 1, 'time': 1, 'space': 1, 'children': 1, 'make': 1, 'deci': 1, 'regard': 1, 'free': 1, 'discrimin': 1, 'coercion': 1, 'violenc': 1, 'promot': 1, 'protect': 1, 'freedom': 1, 'particip': 1, 'fulli': 1, 'equal': 1, 'societi': 1}}, {'sent_id': 16, 'frequency_of_word': {'gender': 1, 'equal': 1, 'impli': 1, 'societi': 1, 'women': 1, 'men': 1, 'enjoy': 1, 'opportun': 1, 'outcom': 1, 'right': 1, 'oblig': 1, 'sphere': 1, 'life': 1}}, {'sent_id': 17, 'frequency_of_word': {'equal': 4, 'men': 1, 'women': 1, 'exist': 1, 'sex': 1, 'abl': 1, 'share': 1, 'distribut': 1, 'power': 1, 'influenc': 1, 'opportun': 2, 'financ': 1, 'independ': 1, 'work': 1, 'set': 1, 'busi': 1, 'enjoy': 1, 'access': 1, 'educ': 1, 'develop': 1, 'person': 1, 'ambit': 1}}, {'sent_id': 18, 'frequency_of_word': {'critic': 1, 'aspect': 1, 'promot': 1, 'gender': 1, 'equal': 1, 'empow': 1, 'women': 2, 'focu': 1, 'identifi': 1, 'redress': 1, 'power': 1, 'imbal': 1, 'give': 1, 'autonomi': 1, 'manag': 1, 'live': 1}}, {'sent_id': 19, 'frequency_of_word': {'women': 1, 'empow': 1, 'vital': 1, 'sustain': 1, 'develop': 1, 'realiz': 1, 'human': 1, 'right': 1}}, {'sent_id': 20, 'frequency_of_word': {'women': 1, 'statu': 1, 'low': 1, 'famili': 2, 'size': 1, 'tend': 1, 'larg': 1, 'make': 1, 'difficult': 1, 'thrive': 1}}, {'sent_id': 21, 'frequency_of_word': {'popul': 1, 'develop': 1, 'reproduct': 1, 'health': 1, 'programm': 1, 'effect': 1, 'address': 1, 'educ': 1, 'opportun': 1, 'statu': 1, 'empow': 1, 'women': 1}}, {'sent_id': 22, 'frequency_of_word': {'women': 1, 'empow': 1, 'whole': 1, 'famili': 1, 'benefit': 2, 'often': 1, 'rippl': 1, 'effect': 1, 'futur': 1, 'gener': 1}}, {'sent_id': 23, 'frequency_of_word': {'role': 1, 'men': 1, 'women': 1, 'play': 1, 'societi': 1, 'biolog': 1, 'determin': 2, 'social': 1, 'chang': 1, 'changeabl': 1}}, {'sent_id': 24, 'frequency_of_word': {'although': 1, 'may': 1, 'justifi': 1, 'requir': 1, 'cultur': 1, 'religion': 1, 'role': 1, 'vari': 1, 'wide': 1, 'local': 1, 'chang': 1, 'time': 1}}, {'sent_id': 25, 'frequency_of_word': {'key': 1, 'issu': 1, 'linkag': 1, '1': 1, 'reproduct': 2, 'health': 2, 'women': 1, 'physiolog': 1, 'social': 1, 'reason': 1, 'vulner': 1, 'men': 1, 'problem': 1}}, {'sent_id': 26, 'frequency_of_word': {'reproduct': 1, 'health': 1, 'problem': 1, 'includ': 1, 'matern': 1, 'mortal': 1, 'morbid': 1, 'repr': 1, 'major': 1, 'prevent': 1, 'cau': 1, 'death': 1, 'disabl': 1, 'women': 1, 'develop': 1, 'countri': 1}}, {'sent_id': 27, 'frequency_of_word': {'failur': 1, 'provid': 1, 'inform': 1, 'servic': 1, 'condit': 1, 'help': 1, 'women': 2, 'protect': 1, 'reproduct': 1, 'health': 2, 'therefor': 1, 'constitut': 1, 'genderba': 1, 'discrimin': 1, 'violat': 1, 'right': 1, 'life': 1}}, {'sent_id': 28, 'frequency_of_word': {'2': 1, 'stewardship': 1, 'natur': 1, 'resourc': 1, 'women': 1, 'develop': 1, 'nation': 1, 'usual': 1, 'charg': 1, 'secur': 1, 'water': 1, 'food': 1, 'fuel': 1, 'overs': 1, 'famili': 1, 'health': 1, 'diet': 1}}, {'sent_id': 29, 'frequency_of_word': {'therefor': 1, 'tend': 1, 'put': 1, 'immedi': 1, 'practic': 1, 'whatev': 1, 'learn': 1, 'nutrit': 1, 'preserv': 1, 'environ': 1, 'natur': 1, 'resourc': 1}}, {'sent_id': 30, 'frequency_of_word': {'econom': 1, 'empow': 1, 'women': 1, 'men': 1, 'live': 1, 'poverti': 1}}, {'sent_id': 31, 'frequency_of_word': {'econom': 2, 'dispar': 1, 'persist': 1, 'partli': 1, 'much': 1, 'unpaid': 1, 'work': 1, 'within': 1, 'famili': 1, 'commun': 1, 'fall': 1, 'shoulder': 1, 'women': 1, 'face': 1, 'discrimin': 1, 'sphere': 1}}, {'sent_id': 32, 'frequency_of_word': {'educ': 1, 'empow': 1, 'two': 1, 'third': 1, 'illit': 1, 'adult': 1, 'world': 1, 'femal': 1}}, {'sent_id': 33, 'frequency_of_word': {'higher': 2, 'level': 2, 'women': 1, 'educ': 2, 'strongli': 1, 'associ': 1, 'lower': 2, 'infant': 1, 'mortal': 1, 'fertil': 1, 'well': 1, 'econom': 1, 'opportun': 1, 'children': 1}}, {'sent_id': 34, 'frequency_of_word': {'polit': 2, 'empow': 1, 'social': 2, 'legal': 2, 'institut': 1, 'still': 1, 'guarant': 1, 'women': 1, 'equal': 1, 'basic': 1, 'human': 1, 'right': 1, 'access': 1, 'control': 1, 'land': 1, 'resourc': 1, 'employ': 1, 'earn': 1, 'particip': 1}}, {'sent_id': 35, 'frequency_of_word': {'law': 1, 'domest': 1, 'violenc': 1, 'often': 1, 'enforc': 1, 'behalf': 1, 'women': 1}}, {'sent_id': 36, 'frequency_of_word': {'experi': 1, 'shown': 1, 'address': 1, 'gender': 1, 'equal': 1, 'women': 1, 'empow': 1, 'requir': 1, 'strateg': 1, 'interv': 1, 'level': 1, 'program': 1, 'policymak': 1}}, {'sent_id': 37, 'frequency_of_word': {'women': 2, 'work': 2, 'econom': 1, 'empow': 1, 'nearli': 1, 'everi': 1, 'countri': 1, 'longer': 1, 'hour': 1, 'men': 1, 'usual': 1, 'paid': 1, 'less': 1, 'like': 1, 'live': 1, 'poverti': 1}}, {'sent_id': 38, 'frequency_of_word': {'subsist': 1, 'economi': 1, 'women': 1, 'spend': 1, 'much': 1, 'day': 1, 'perform': 1, 'task': 1, 'maintain': 1, 'household': 1, 'carri': 1, 'water': 1, 'collect': 1, 'fuel': 1, 'wood': 1}}, {'sent_id': 39, 'frequency_of_word': {'mani': 1, 'countri': 1, 'women': 1, 'also': 1, 'respon': 1, 'agricultur': 1, 'product': 1, 'sell': 1}}, {'sent_id': 40, 'frequency_of_word': {'often': 1, 'take': 1, 'paid': 1, 'work': 1, 'entrepreneuri': 1, 'enterpri': 1, 'well': 1}}, {'sent_id': 41, 'frequency_of_word': {'unpaid': 1, 'domest': 1, 'work': 1, 'food': 1, 'prepar': 1, 'care': 1, 'give': 1, 'directli': 1, 'affect': 1, 'health': 1, 'over': 1, 'well': 1, 'qualiti': 1, 'life': 1, 'children': 1, 'household': 1, 'member': 1}}, {'sent_id': 42, 'frequency_of_word': {'need': 1, 'women': 1, 'unpaid': 1, 'labour': 1, 'often': 1, 'increa': 1, 'econom': 2, 'shock': 1, 'associ': 1, 'aid': 1, 'pandem': 1, 'restructur': 1}}, {'sent_id': 43, 'frequency_of_word': {'yet': 1, 'women': 1, 'voic': 1, 'live': 1, 'experi': 1, 'whether': 1, 'worker': 1, 'paid': 1, 'unpaid': 1, 'citizen': 1, 'consum': 1, 'still': 1, 'larg': 1, 'miss': 1, 'debat': 1, 'financ': 1, 'develop': 1}}, {'sent_id': 44, 'frequency_of_word': {'poor': 1, 'women': 1, 'unpaid': 1, 'work': 3, 'longer': 1, 'hour': 1, 'may': 1, 'accept': 1, 'degrad': 1, 'condit': 1, 'time': 1, 'crisi': 1, 'ensur': 1, 'famili': 1, 'surviv': 1}}, {'sent_id': 45, 'frequency_of_word': {'intergen': 1, 'gender': 1, 'gap': 1, 'differ': 1, 'work': 2, 'pattern': 1, 'men': 2, 'women': 2, 'invi': 1, 'includ': 1, 'nation': 1, 'account': 1, 'lead': 1, 'lower': 1, 'entitl': 1}}, {'sent_id': 46, 'frequency_of_word': {'women': 1, 'lower': 1, 'access': 1, 'resourc': 1, 'lack': 1, 'attent': 1, 'gender': 2, 'macroeconom': 1, 'polici': 1, 'add': 1, 'inequ': 1, 'turn': 1, 'perpetu': 1, 'gap': 1}}, {'sent_id': 47, 'frequency_of_word': {'exampl': 1, 'girl': 1, 'reach': 1, 'adolesc': 1, 'typic': 1, 'expect': 1, 'spend': 2, 'time': 2, 'household': 1, 'activ': 1, 'boy': 1, 'farm': 1, 'wage': 1, 'work': 1}}, {'sent_id': 48, 'frequency_of_word': {'time': 2, 'girl': 1, 'boy': 1, 'becom': 1, 'adult': 1, 'femal': 1, 'gener': 1, 'work': 1, 'longer': 1, 'hour': 1, 'male': 1, 'less': 3, 'experi': 1, 'labour': 1, 'forc': 1, 'earn': 1, 'incom': 1, 'leisur': 1, 'recreat': 1, 'rest': 1}}, {'sent_id': 49, 'frequency_of_word': {'implic': 1, 'invest': 1, 'next': 1, 'gener': 1}}, {'sent_id': 50, 'frequency_of_word': {'parent': 1, 'view': 1, 'daughter': 1, 'less': 2, 'like': 1, 'take': 1, 'paid': 1, 'work': 1, 'earn': 1, 'market': 1, 'wage': 1, 'may': 1, 'inclin': 1, 'invest': 1, 'educ': 1, 'women': 1, 'fastest': 1, 'rout': 1, 'poverti': 1}}, {'sent_id': 51, 'frequency_of_word': {'empow': 2, 'women': 2, 'educ': 2, 'one': 1, 'import': 1, 'mean': 1, 'knowledg': 1, 'skill': 1, 'selfconfid': 1, 'necessari': 1, 'particip': 1, 'fulli': 1, 'develop': 1, 'process': 1}}]\n"
     ]
    }
   ],
   "source": [
    "from nltk.tokenize import word_tokenize\n",
    "import matplotlib.pyplot as plt\n",
    "\n",
    "## counting the frequency of every word in sentences\n",
    "def frequency_of_words(sentences):\n",
    "  freq_info=[]\n",
    "  for i,sent in enumerate(sentences):\n",
    "    words=word_tokenize(sent)\n",
    "    frequency_dict={}\n",
    "    for word in words:\n",
    "      if word in frequency_dict.keys():\n",
    "        frequency_dict[word]=frequency_dict[word]+1\n",
    "      else:\n",
    "        frequency_dict[word]=1\n",
    "    temp={\"sent_id\":i,\"frequency_of_word\":frequency_dict}\n",
    "    freq_info.append(temp)\n",
    "    \n",
    "  return freq_info\n",
    "\n",
    "freq_info=frequency_of_words(sentences)\n",
    "\n",
    "h=[]\n",
    "l=[]\n",
    "unique_words=unique_word(sentences)\n",
    "for i,word in enumerate(unique_words):\n",
    "  count=0\n",
    "  for sent in sentences:\n",
    "    words=word_tokenize(sent)\n",
    "    for word_1 in words:\n",
    "      if word==word_1:\n",
    "        count=count+1\n",
    "  l.append(i)\n",
    "  h.append(count)\n",
    "  \n",
    "    \n",
    "print(freq_info)"
   ]
  },
  {
   "cell_type": "code",
   "execution_count": 20,
   "metadata": {},
   "outputs": [
    {
     "name": "stdout",
     "output_type": "stream",
     "text": [
      "360\n"
     ]
    },
    {
     "data": {
      "text/plain": [
       "'\\ndef unique_word(sentences):\\n  unique=[]\\n  for sents in sentences:\\n    for word in word_tokenize(sents):\\n      if word not in unique:\\n        unique.append(word)\\n  return unique\\nunique_words=unique(sentences)\\nprint(len(unique))\\n'"
      ]
     },
     "execution_count": 20,
     "metadata": {},
     "output_type": "execute_result"
    }
   ],
   "source": [
    "def unique_word(sentences):\n",
    "  unique=[]\n",
    "  for sents in sentences:\n",
    "    for word in word_tokenize(sents):\n",
    "      if word not in unique:\n",
    "        unique.append(word)\n",
    "  return unique\n",
    "unique_words=unique_word(sentences)\n",
    "print(len(unique_words))"
   ]
  },
  {
   "cell_type": "code",
   "execution_count": 27,
   "metadata": {},
   "outputs": [
    {
     "name": "stdout",
     "output_type": "stream",
     "text": [
      "[[0.16666667 0.16666667 0.16666667 ... 0.         0.         0.        ]\n",
      " [0.         0.         0.         ... 0.         0.         0.        ]\n",
      " [0.         0.         0.         ... 0.         0.         0.        ]\n",
      " ...\n",
      " [0.         0.         0.         ... 0.         0.         0.        ]\n",
      " [0.         0.         0.         ... 0.         0.         0.        ]\n",
      " [0.         0.         0.         ... 0.05882353 0.05882353 0.05882353]]\n"
     ]
    }
   ],
   "source": [
    "import numpy as np\n",
    "\n",
    "#term frequency calc and print matrix \n",
    "def tf_calculation(sent_info,freq_info):\n",
    "  tf_values=np.zeros(shape=(len(sent_info),len(unique_words)))\n",
    "  for i,freq_info_dict in enumerate(freq_info):\n",
    "    for word in freq_info_dict[\"frequency_of_word\"].keys():\n",
    "      tf=freq_info_dict[\"frequency_of_word\"][word]/sent_info[i][\"sent_word_count\"]\n",
    "      tf_values[i][unique_words.index(word)]=tf\n",
    "  return tf_values\n",
    "   \n",
    "  \n",
    "tf_values=tf_calculation(sent_info,freq_info)\n",
    "print(tf_values)"
   ]
  },
  {
   "cell_type": "code",
   "execution_count": 28,
   "metadata": {},
   "outputs": [
    {
     "name": "stdout",
     "output_type": "stream",
     "text": [
      "[[1.75401914 1.38629436 3.95124372 ... 0.         0.         0.        ]\n",
      " [0.         0.         0.         ... 0.         0.         0.        ]\n",
      " [0.         0.         0.         ... 0.         0.         0.        ]\n",
      " ...\n",
      " [0.         0.         0.         ... 0.         0.         0.        ]\n",
      " [0.         0.         0.         ... 0.         0.         0.        ]\n",
      " [0.         0.         0.         ... 3.95124372 3.95124372 3.95124372]]\n"
     ]
    }
   ],
   "source": [
    "import math\n",
    "\n",
    "# idf calc \n",
    "def idf_calculate(sent_info,freq_info):\n",
    "  idf_values=np.zeros(shape=(len(sent_info),len(unique_words)))\n",
    "  for i,freq_info_dict in enumerate(freq_info):\n",
    "    for word in freq_info_dict[\"frequency_of_word\"].keys():\n",
    "      sum=0\n",
    "      for word_in_dict in freq_info:\n",
    "        if word in set(word_in_dict[\"frequency_of_word\"].keys()):\n",
    "          sum=sum+word_in_dict[\"frequency_of_word\"][word]\n",
    "      idf_values[i][unique_words.index(word)]=math.log(len(sentences)/sum)\n",
    "  return idf_values\n",
    "        \n",
    "idf_values=idf_calculate(sent_info,freq_info)\n",
    "print(idf_values)"
   ]
  },
  {
   "cell_type": "code",
   "execution_count": 23,
   "metadata": {},
   "outputs": [
    {
     "name": "stdout",
     "output_type": "stream",
     "text": [
      "[[0.29233652 0.23104906 0.65854062 ... 0.         0.         0.        ]\n",
      " [0.         0.         0.         ... 0.         0.         0.        ]\n",
      " [0.         0.         0.         ... 0.         0.         0.        ]\n",
      " ...\n",
      " [0.         0.         0.         ... 0.         0.         0.        ]\n",
      " [0.         0.         0.         ... 0.         0.         0.        ]\n",
      " [0.         0.         0.         ... 0.2324261  0.2324261  0.2324261 ]]\n"
     ]
    }
   ],
   "source": [
    "import numpy as np\n",
    "\n",
    "#tfidf\n",
    "def tfidf_calculation(tf_values,idf_values):\n",
    "  tfidf_values=np.zeros(shape=(len(sent_info),len(unique_words)))\n",
    "  tfidf_values=np.multiply(tf_values,idf_values)\n",
    "  return tfidf_values\n",
    "\n",
    "tfidf_values=tfidf_calculation(tf_values,idf_values)\n",
    "print(tfidf_values)"
   ]
  },
  {
   "cell_type": "code",
   "execution_count": 24,
   "metadata": {},
   "outputs": [],
   "source": [
    "import numpy as np\n",
    "import math\n",
    "# finding the cosine similarity \n",
    "\n",
    "def cosine_similarity(sent_1,sent_2):\n",
    "  s1_dot_s2=np.sum(np.multiply(sent_1,sent_2))\n",
    "  magnitude_of_s1=math.sqrt(np.sum(np.multiply(sent_1,sent_1)))\n",
    "  magnitude_of_s2=math.sqrt(np.sum(np.multiply(sent_2,sent_2)))\n",
    "  return s1_dot_s2/(magnitude_of_s1*magnitude_of_s2)"
   ]
  },
  {
   "cell_type": "code",
   "execution_count": 29,
   "metadata": {},
   "outputs": [
    {
     "name": "stdout",
     "output_type": "stream",
     "text": [
      "[[0.45882088 0.         0.         ... 0.         0.         0.        ]\n",
      " [0.         0.63033537 0.         ... 0.         0.         0.        ]\n",
      " [0.         0.         0.52102917 ... 0.         0.02686795 0.02983225]\n",
      " ...\n",
      " [0.         0.         0.         ... 0.64958672 0.07487248 0.        ]\n",
      " [0.         0.         0.02106123 ... 0.04707564 0.40842386 0.01651242]\n",
      " [0.         0.         0.02661913 ... 0.         0.01879618 0.46491097]]\n"
     ]
    }
   ],
   "source": [
    "\n",
    "\n",
    "def cosine_matrix(tfidf_values):\n",
    "  cosine_similarity_matrix=np.zeros(shape=(len(sentences),len(sentences)))\n",
    "  for i in range(len(tfidf_values)):\n",
    "    for j in range(len(tfidf_values)):\n",
    "      cosine_similarity_matrix[i][j]=cosine_similarity(tfidf_values[i],tfidf_values[j])\n",
    "    \n",
    "#normalize the matrix\n",
    "  for idx in range(len(cosine_similarity_matrix)):\n",
    "    cosine_similarity_matrix[idx] /= cosine_similarity_matrix[idx].sum()\n",
    "    \n",
    "  return cosine_similarity_matrix\n",
    "\n",
    "cosine_similarity_matrix=cosine_matrix(tfidf_values)\n",
    "print(cosine_similarity_matrix)"
   ]
  },
  {
   "cell_type": "code",
   "execution_count": 34,
   "metadata": {},
   "outputs": [
    {
     "name": "stdout",
     "output_type": "stream",
     "text": [
      "52\n",
      "women’s work and economic empowerment: in nearly every country, women work longer hours than men, but are usually paid less and are more likely to live in poverty.\n",
      "economic empowerment: more women than men live in poverty.\n",
      "empowered women contribute to the health and productivity of whole families and communities and to improved prospects for the next generation.\n",
      "and when her reproductive rights — including the right to decide the number, timing and spacing of her children, and to make decisions regarding reproduction free of discrimination, coercion and violence — are promoted and protected, she has freedom to participate more fully and equally in society.\n",
      "political empowerment: social and legal institutions still do not guarantee women equality in basic legal and human rights, in access to or control of land or other resources, in employment and earning, and social and political participation.\n",
      "population and development and reproductive health programmes are more effective when they address the educational opportunities, status and empowerment of women.\n",
      "by the time girls and boys become adults; females generally work longer hours than males, have less experience in the labour force, earn less income and have less leisure, recreation or rest time.\n",
      "gender equality implies a society in which women and men enjoy the same opportunities, outcomes, rights and obligations in all spheres of life.\n",
      "if parents view daughters as less likely to take paid work or earn market wages, they may be less inclined to invest in their education, women's fastest route out of poverty.\n",
      "yet discrimination against women and girls - including gender-based violence, economic discrimination, reproductive health inequities, and harmful traditional practices - remains the most pervasive and persistent form of inequality.\n",
      "equality between men and women exists when both sexes are able to share equally in the distribution of power and influence; have equal opportunities for financial independence through work or through setting up businesses; enjoy equal access to education and the opportunity to develop personal ambitions.\n",
      "unpaid domestic work – from food preparation to care giving – directly affects the health and overall well being and quality of life of children and other household members.\n",
      "despite many international agreements affirming their human rights, women are still much more likely than men to be poor and illiterate.\n"
     ]
    }
   ],
   "source": [
    "# textrank using cosine matrix \n",
    "\n",
    "\n",
    "def text_rank(cosine_matrix):\n",
    "  tpf=np.ones(len(sentences))/len(sentences)\n",
    "  i=0\n",
    "  while i<100:\n",
    "    new_p=np.dot(cosine_similarity_matrix.T,tpf.T)\n",
    "    if i<=100:\n",
    "      return new_p\n",
    "    i=i+1\n",
    "    tpf = new_p\n",
    "  \n",
    "  \n",
    "result_rank=text_rank(cosine_similarity_matrix)\n",
    "print(len(sentences))\n",
    "rank_with_sentence={}\n",
    "for i in range(len(sent_for_print)):\n",
    "  if result_rank[i] not in set(rank_with_sentence.keys()):\n",
    "    rank_with_sentence[result_rank[i]]=[sent_for_print[i]]\n",
    "  else:\n",
    "    rank_with_sentence[result_rank[i]].append(sent_for_print[i])\n",
    "    \n",
    "\n",
    "#ranked sentences o/p => 1/4th of the original !!!\n",
    "\n",
    "for key in sorted(rank_with_sentence.keys(),reverse=True)[:int(len(rank_with_sentence.keys())/4)]:\n",
    "  for k in rank_with_sentence[key]:\n",
    "    #print(key,k)\n",
    "    k[0].upper()\n",
    "    print(k)"
   ]
  },
  {
   "cell_type": "code",
   "execution_count": null,
   "metadata": {},
   "outputs": [],
   "source": []
  },
  {
   "cell_type": "code",
   "execution_count": null,
   "metadata": {},
   "outputs": [],
   "source": []
  },
  {
   "cell_type": "code",
   "execution_count": null,
   "metadata": {},
   "outputs": [],
   "source": []
  }
 ],
 "metadata": {
  "kernelspec": {
   "display_name": "Python 3",
   "language": "python",
   "name": "python3"
  },
  "language_info": {
   "codemirror_mode": {
    "name": "ipython",
    "version": 3
   },
   "file_extension": ".py",
   "mimetype": "text/x-python",
   "name": "python",
   "nbconvert_exporter": "python",
   "pygments_lexer": "ipython3",
   "version": "3.8.3"
  }
 },
 "nbformat": 4,
 "nbformat_minor": 4
}
